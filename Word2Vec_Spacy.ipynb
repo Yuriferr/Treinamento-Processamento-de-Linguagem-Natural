{
  "nbformat": 4,
  "nbformat_minor": 0,
  "metadata": {
    "colab": {
      "provenance": [],
      "toc_visible": true
    },
    "kernelspec": {
      "name": "python3",
      "display_name": "Python 3"
    },
    "language_info": {
      "name": "python"
    }
  },
  "cells": [
    {
      "cell_type": "code",
      "source": [
        "import pandas as pd\n",
        "\n",
        "artigo_treino = pd.read_csv(\"https://raw.githubusercontent.com/Yuriferr/Treinamento-Processamento-de-Linguagem-Natural/refs/heads/main/dados/treino.csv\")\n",
        "artigo_teste = pd.read_csv(\"https://raw.githubusercontent.com/Yuriferr/Treinamento-Processamento-de-Linguagem-Natural/refs/heads/main/dados/teste.csv\")"
      ],
      "metadata": {
        "id": "Fet2eoOiw3O9"
      },
      "execution_count": 63,
      "outputs": []
    },
    {
      "cell_type": "code",
      "source": [
        "artigo_treino.head()"
      ],
      "metadata": {
        "colab": {
          "base_uri": "https://localhost:8080/",
          "height": 206
        },
        "id": "VP67eZkB11-M",
        "outputId": "3d53cd03-02ed-4f43-bdeb-687cb010ec66"
      },
      "execution_count": 64,
      "outputs": [
        {
          "output_type": "execute_result",
          "data": {
            "text/plain": [
              "                                               title  \\\n",
              "0  Opinião do Especialista: Os Desafios e Oportun...   \n",
              "1  Inovação e Perspectivas: O Papel de Pandemia n...   \n",
              "2  Opinião do Especialista: Os Desafios e Oportun...   \n",
              "3  Debate Aberto: Vacinação entre o Progresso e o...   \n",
              "4  Debate Aberto: Reforma Educacional entre o Pro...   \n",
              "\n",
              "                                                text        date    category  \\\n",
              "0  Lorem ipsum dolor sit amet, consectetur adipis...  2023-01-01  Tecnologia   \n",
              "1  A recente pesquisa sobre Pandemia revelou dado...  2023-01-02       Saúde   \n",
              "2  O debate sobre Comércio Exterior tem gerado in...  2023-01-03    Economia   \n",
              "3  No cenário atual, a questão de Vacinação tem g...  2023-01-04       Saúde   \n",
              "4  No cenário atual, a questão de Reforma Educaci...  2023-01-05    Educação   \n",
              "\n",
              "           subcategory                                               link  \n",
              "0             Hardware   http://noticias.com/artigo/tecnologia/hardware/1  \n",
              "1             Pandemia        http://noticias.com/artigo/saúde/pandemia/2  \n",
              "2    Comércio Exterior  http://noticias.com/artigo/economia/comércio-e...  \n",
              "3            Vacinação       http://noticias.com/artigo/saúde/vacinação/4  \n",
              "4  Reforma Educacional  http://noticias.com/artigo/educação/reforma-ed...  "
            ],
            "text/html": [
              "\n",
              "  <div id=\"df-b2c3575e-9f3d-49b8-a363-011d73530564\" class=\"colab-df-container\">\n",
              "    <div>\n",
              "<style scoped>\n",
              "    .dataframe tbody tr th:only-of-type {\n",
              "        vertical-align: middle;\n",
              "    }\n",
              "\n",
              "    .dataframe tbody tr th {\n",
              "        vertical-align: top;\n",
              "    }\n",
              "\n",
              "    .dataframe thead th {\n",
              "        text-align: right;\n",
              "    }\n",
              "</style>\n",
              "<table border=\"1\" class=\"dataframe\">\n",
              "  <thead>\n",
              "    <tr style=\"text-align: right;\">\n",
              "      <th></th>\n",
              "      <th>title</th>\n",
              "      <th>text</th>\n",
              "      <th>date</th>\n",
              "      <th>category</th>\n",
              "      <th>subcategory</th>\n",
              "      <th>link</th>\n",
              "    </tr>\n",
              "  </thead>\n",
              "  <tbody>\n",
              "    <tr>\n",
              "      <th>0</th>\n",
              "      <td>Opinião do Especialista: Os Desafios e Oportun...</td>\n",
              "      <td>Lorem ipsum dolor sit amet, consectetur adipis...</td>\n",
              "      <td>2023-01-01</td>\n",
              "      <td>Tecnologia</td>\n",
              "      <td>Hardware</td>\n",
              "      <td>http://noticias.com/artigo/tecnologia/hardware/1</td>\n",
              "    </tr>\n",
              "    <tr>\n",
              "      <th>1</th>\n",
              "      <td>Inovação e Perspectivas: O Papel de Pandemia n...</td>\n",
              "      <td>A recente pesquisa sobre Pandemia revelou dado...</td>\n",
              "      <td>2023-01-02</td>\n",
              "      <td>Saúde</td>\n",
              "      <td>Pandemia</td>\n",
              "      <td>http://noticias.com/artigo/saúde/pandemia/2</td>\n",
              "    </tr>\n",
              "    <tr>\n",
              "      <th>2</th>\n",
              "      <td>Opinião do Especialista: Os Desafios e Oportun...</td>\n",
              "      <td>O debate sobre Comércio Exterior tem gerado in...</td>\n",
              "      <td>2023-01-03</td>\n",
              "      <td>Economia</td>\n",
              "      <td>Comércio Exterior</td>\n",
              "      <td>http://noticias.com/artigo/economia/comércio-e...</td>\n",
              "    </tr>\n",
              "    <tr>\n",
              "      <th>3</th>\n",
              "      <td>Debate Aberto: Vacinação entre o Progresso e o...</td>\n",
              "      <td>No cenário atual, a questão de Vacinação tem g...</td>\n",
              "      <td>2023-01-04</td>\n",
              "      <td>Saúde</td>\n",
              "      <td>Vacinação</td>\n",
              "      <td>http://noticias.com/artigo/saúde/vacinação/4</td>\n",
              "    </tr>\n",
              "    <tr>\n",
              "      <th>4</th>\n",
              "      <td>Debate Aberto: Reforma Educacional entre o Pro...</td>\n",
              "      <td>No cenário atual, a questão de Reforma Educaci...</td>\n",
              "      <td>2023-01-05</td>\n",
              "      <td>Educação</td>\n",
              "      <td>Reforma Educacional</td>\n",
              "      <td>http://noticias.com/artigo/educação/reforma-ed...</td>\n",
              "    </tr>\n",
              "  </tbody>\n",
              "</table>\n",
              "</div>\n",
              "    <div class=\"colab-df-buttons\">\n",
              "\n",
              "  <div class=\"colab-df-container\">\n",
              "    <button class=\"colab-df-convert\" onclick=\"convertToInteractive('df-b2c3575e-9f3d-49b8-a363-011d73530564')\"\n",
              "            title=\"Convert this dataframe to an interactive table.\"\n",
              "            style=\"display:none;\">\n",
              "\n",
              "  <svg xmlns=\"http://www.w3.org/2000/svg\" height=\"24px\" viewBox=\"0 -960 960 960\">\n",
              "    <path d=\"M120-120v-720h720v720H120Zm60-500h600v-160H180v160Zm220 220h160v-160H400v160Zm0 220h160v-160H400v160ZM180-400h160v-160H180v160Zm440 0h160v-160H620v160ZM180-180h160v-160H180v160Zm440 0h160v-160H620v160Z\"/>\n",
              "  </svg>\n",
              "    </button>\n",
              "\n",
              "  <style>\n",
              "    .colab-df-container {\n",
              "      display:flex;\n",
              "      gap: 12px;\n",
              "    }\n",
              "\n",
              "    .colab-df-convert {\n",
              "      background-color: #E8F0FE;\n",
              "      border: none;\n",
              "      border-radius: 50%;\n",
              "      cursor: pointer;\n",
              "      display: none;\n",
              "      fill: #1967D2;\n",
              "      height: 32px;\n",
              "      padding: 0 0 0 0;\n",
              "      width: 32px;\n",
              "    }\n",
              "\n",
              "    .colab-df-convert:hover {\n",
              "      background-color: #E2EBFA;\n",
              "      box-shadow: 0px 1px 2px rgba(60, 64, 67, 0.3), 0px 1px 3px 1px rgba(60, 64, 67, 0.15);\n",
              "      fill: #174EA6;\n",
              "    }\n",
              "\n",
              "    .colab-df-buttons div {\n",
              "      margin-bottom: 4px;\n",
              "    }\n",
              "\n",
              "    [theme=dark] .colab-df-convert {\n",
              "      background-color: #3B4455;\n",
              "      fill: #D2E3FC;\n",
              "    }\n",
              "\n",
              "    [theme=dark] .colab-df-convert:hover {\n",
              "      background-color: #434B5C;\n",
              "      box-shadow: 0px 1px 3px 1px rgba(0, 0, 0, 0.15);\n",
              "      filter: drop-shadow(0px 1px 2px rgba(0, 0, 0, 0.3));\n",
              "      fill: #FFFFFF;\n",
              "    }\n",
              "  </style>\n",
              "\n",
              "    <script>\n",
              "      const buttonEl =\n",
              "        document.querySelector('#df-b2c3575e-9f3d-49b8-a363-011d73530564 button.colab-df-convert');\n",
              "      buttonEl.style.display =\n",
              "        google.colab.kernel.accessAllowed ? 'block' : 'none';\n",
              "\n",
              "      async function convertToInteractive(key) {\n",
              "        const element = document.querySelector('#df-b2c3575e-9f3d-49b8-a363-011d73530564');\n",
              "        const dataTable =\n",
              "          await google.colab.kernel.invokeFunction('convertToInteractive',\n",
              "                                                    [key], {});\n",
              "        if (!dataTable) return;\n",
              "\n",
              "        const docLinkHtml = 'Like what you see? Visit the ' +\n",
              "          '<a target=\"_blank\" href=https://colab.research.google.com/notebooks/data_table.ipynb>data table notebook</a>'\n",
              "          + ' to learn more about interactive tables.';\n",
              "        element.innerHTML = '';\n",
              "        dataTable['output_type'] = 'display_data';\n",
              "        await google.colab.output.renderOutput(dataTable, element);\n",
              "        const docLink = document.createElement('div');\n",
              "        docLink.innerHTML = docLinkHtml;\n",
              "        element.appendChild(docLink);\n",
              "      }\n",
              "    </script>\n",
              "  </div>\n",
              "\n",
              "\n",
              "    <div id=\"df-dcace9c4-a472-4ccd-9aa2-0c99c4ee6bae\">\n",
              "      <button class=\"colab-df-quickchart\" onclick=\"quickchart('df-dcace9c4-a472-4ccd-9aa2-0c99c4ee6bae')\"\n",
              "                title=\"Suggest charts\"\n",
              "                style=\"display:none;\">\n",
              "\n",
              "<svg xmlns=\"http://www.w3.org/2000/svg\" height=\"24px\"viewBox=\"0 0 24 24\"\n",
              "     width=\"24px\">\n",
              "    <g>\n",
              "        <path d=\"M19 3H5c-1.1 0-2 .9-2 2v14c0 1.1.9 2 2 2h14c1.1 0 2-.9 2-2V5c0-1.1-.9-2-2-2zM9 17H7v-7h2v7zm4 0h-2V7h2v10zm4 0h-2v-4h2v4z\"/>\n",
              "    </g>\n",
              "</svg>\n",
              "      </button>\n",
              "\n",
              "<style>\n",
              "  .colab-df-quickchart {\n",
              "      --bg-color: #E8F0FE;\n",
              "      --fill-color: #1967D2;\n",
              "      --hover-bg-color: #E2EBFA;\n",
              "      --hover-fill-color: #174EA6;\n",
              "      --disabled-fill-color: #AAA;\n",
              "      --disabled-bg-color: #DDD;\n",
              "  }\n",
              "\n",
              "  [theme=dark] .colab-df-quickchart {\n",
              "      --bg-color: #3B4455;\n",
              "      --fill-color: #D2E3FC;\n",
              "      --hover-bg-color: #434B5C;\n",
              "      --hover-fill-color: #FFFFFF;\n",
              "      --disabled-bg-color: #3B4455;\n",
              "      --disabled-fill-color: #666;\n",
              "  }\n",
              "\n",
              "  .colab-df-quickchart {\n",
              "    background-color: var(--bg-color);\n",
              "    border: none;\n",
              "    border-radius: 50%;\n",
              "    cursor: pointer;\n",
              "    display: none;\n",
              "    fill: var(--fill-color);\n",
              "    height: 32px;\n",
              "    padding: 0;\n",
              "    width: 32px;\n",
              "  }\n",
              "\n",
              "  .colab-df-quickchart:hover {\n",
              "    background-color: var(--hover-bg-color);\n",
              "    box-shadow: 0 1px 2px rgba(60, 64, 67, 0.3), 0 1px 3px 1px rgba(60, 64, 67, 0.15);\n",
              "    fill: var(--button-hover-fill-color);\n",
              "  }\n",
              "\n",
              "  .colab-df-quickchart-complete:disabled,\n",
              "  .colab-df-quickchart-complete:disabled:hover {\n",
              "    background-color: var(--disabled-bg-color);\n",
              "    fill: var(--disabled-fill-color);\n",
              "    box-shadow: none;\n",
              "  }\n",
              "\n",
              "  .colab-df-spinner {\n",
              "    border: 2px solid var(--fill-color);\n",
              "    border-color: transparent;\n",
              "    border-bottom-color: var(--fill-color);\n",
              "    animation:\n",
              "      spin 1s steps(1) infinite;\n",
              "  }\n",
              "\n",
              "  @keyframes spin {\n",
              "    0% {\n",
              "      border-color: transparent;\n",
              "      border-bottom-color: var(--fill-color);\n",
              "      border-left-color: var(--fill-color);\n",
              "    }\n",
              "    20% {\n",
              "      border-color: transparent;\n",
              "      border-left-color: var(--fill-color);\n",
              "      border-top-color: var(--fill-color);\n",
              "    }\n",
              "    30% {\n",
              "      border-color: transparent;\n",
              "      border-left-color: var(--fill-color);\n",
              "      border-top-color: var(--fill-color);\n",
              "      border-right-color: var(--fill-color);\n",
              "    }\n",
              "    40% {\n",
              "      border-color: transparent;\n",
              "      border-right-color: var(--fill-color);\n",
              "      border-top-color: var(--fill-color);\n",
              "    }\n",
              "    60% {\n",
              "      border-color: transparent;\n",
              "      border-right-color: var(--fill-color);\n",
              "    }\n",
              "    80% {\n",
              "      border-color: transparent;\n",
              "      border-right-color: var(--fill-color);\n",
              "      border-bottom-color: var(--fill-color);\n",
              "    }\n",
              "    90% {\n",
              "      border-color: transparent;\n",
              "      border-bottom-color: var(--fill-color);\n",
              "    }\n",
              "  }\n",
              "</style>\n",
              "\n",
              "      <script>\n",
              "        async function quickchart(key) {\n",
              "          const quickchartButtonEl =\n",
              "            document.querySelector('#' + key + ' button');\n",
              "          quickchartButtonEl.disabled = true;  // To prevent multiple clicks.\n",
              "          quickchartButtonEl.classList.add('colab-df-spinner');\n",
              "          try {\n",
              "            const charts = await google.colab.kernel.invokeFunction(\n",
              "                'suggestCharts', [key], {});\n",
              "          } catch (error) {\n",
              "            console.error('Error during call to suggestCharts:', error);\n",
              "          }\n",
              "          quickchartButtonEl.classList.remove('colab-df-spinner');\n",
              "          quickchartButtonEl.classList.add('colab-df-quickchart-complete');\n",
              "        }\n",
              "        (() => {\n",
              "          let quickchartButtonEl =\n",
              "            document.querySelector('#df-dcace9c4-a472-4ccd-9aa2-0c99c4ee6bae button');\n",
              "          quickchartButtonEl.style.display =\n",
              "            google.colab.kernel.accessAllowed ? 'block' : 'none';\n",
              "        })();\n",
              "      </script>\n",
              "    </div>\n",
              "\n",
              "    </div>\n",
              "  </div>\n"
            ],
            "application/vnd.google.colaboratory.intrinsic+json": {
              "type": "dataframe",
              "variable_name": "artigo_treino",
              "summary": "{\n  \"name\": \"artigo_treino\",\n  \"rows\": 2000,\n  \"fields\": [\n    {\n      \"column\": \"title\",\n      \"properties\": {\n        \"dtype\": \"category\",\n        \"num_unique_values\": 330,\n        \"samples\": [\n          \"Manchete Urgente: Ciberseguran\\u00e7a em Destaque - Entenda os \\u00daltimos Acontecimentos\",\n          \"Manchete Urgente: Infla\\u00e7\\u00e3o em Destaque - Entenda os \\u00daltimos Acontecimentos\",\n          \"An\\u00e1lise aprofundada: O Impacto de Ensino Superior no Cen\\u00e1rio Global e suas Implica\\u00e7\\u00f5es Futuras\"\n        ],\n        \"semantic_type\": \"\",\n        \"description\": \"\"\n      }\n    },\n    {\n      \"column\": \"text\",\n      \"properties\": {\n        \"dtype\": \"string\",\n        \"num_unique_values\": 2000,\n        \"samples\": [\n          \"No cen\\u00e1rio atual, a quest\\u00e3o de Olimp\\u00edadas tem ganhado cada vez mais relev\\u00e2ncia. Especialistas apontam que a implementa\\u00e7\\u00e3o de novas pol\\u00edticas e a conscientiza\\u00e7\\u00e3o da popula\\u00e7\\u00e3o s\\u00e3o cruciais para enfrentar os desafios. A discuss\\u00e3o sobre Olimp\\u00edadas envolve m\\u00faltiplos setores da sociedade, desde o governo at\\u00e9 as organiza\\u00e7\\u00f5es n\\u00e3o governamentais. \\u00c9 fundamental que haja um esfor\\u00e7o conjunto para garantir um futuro sustent\\u00e1vel e pr\\u00f3spero. A an\\u00e1lise detalhada dos dados revela que o tem sido um fator chave para o avan\\u00e7o, enquanto \\u00e7 ainda representa um obst\\u00e1culo significativo. Novos estudos indicam que a colabora\\u00e7\\u00e3o internacional pode acelerar a resolu\\u00e7\\u00e3o dos problemas.  No cen\\u00e1rio atual, a quest\\u00e3o de Olimp\\u00edadas tem ganhado cada vez mais relev\\u00e2ncia. Especialistas apontam que a implementa\\u00e7\\u00e3o de novas pol\\u00edticas e a conscientiza\\u00e7\\u00e3o da popula\\u00e7\\u00e3o s\\u00e3o cruciais para enfrentar os desafios. A discuss\\u00e3o sobre Olimp\\u00edadas envolve m\\u00faltiplos setores da sociedade, desde o governo at\\u00e9 as organiza\\u00e7\\u00f5es n\\u00e3o governamentais. \\u00c9 fundamental que haja um esfor\\u00e7o conjunto para garantir um futuro sustent\\u00e1vel e pr\\u00f3spero. A an\\u00e1lise detalhada dos dados revela que e tem sido um fator chave para o avan\\u00e7o, enquanto o ainda representa um obst\\u00e1culo significativo. Novos estudos indicam que a colabora\\u00e7\\u00e3o internacional pode acelerar a resolu\\u00e7\\u00e3o dos problemas.  Com a evolu\\u00e7\\u00e3o tecnol\\u00f3gica, Olimp\\u00edadas se tornou um pilar fundamental para o desenvolvimento de diversas ind\\u00fastrias. A automa\\u00e7\\u00e3o e a intelig\\u00eancia artificial est\\u00e3o transformando os processos produtivos e criando novas oportunidades de mercado. No entanto, \\u00e9 preciso estar atento aos impactos sociais e \\u00e9ticos dessa revolu\\u00e7\\u00e3o. A capacita\\u00e7\\u00e3o profissional e a regulamenta\\u00e7\\u00e3o s\\u00e3o essenciais para garantir que os benef\\u00edcios de Olimp\\u00edadas sejam compartilhados por todos. A discuss\\u00e3o sobre a governan\\u00e7a de Olimp\\u00edadas \\u00e9 crucial para evitar desequil\\u00edbrios e promover um crescimento inclusivo.  O debate sobre Olimp\\u00edadas tem gerado intensas discuss\\u00f5es em f\\u00f3runs nacionais e internacionais. Diferentes perspectivas e abordagens s\\u00e3o apresentadas, refletindo a complexidade do tema. A busca por um consenso e a constru\\u00e7\\u00e3o de solu\\u00e7\\u00f5es eficazes s\\u00e3o os principais objetivos. A participa\\u00e7\\u00e3o da sociedade civil e o engajamento dos l\\u00edderes mundiais s\\u00e3o indispens\\u00e1veis para alcan\\u00e7ar resultados significativos. A polariza\\u00e7\\u00e3o de opini\\u00f5es em torno de Olimp\\u00edadas demonstra a necessidade de um di\\u00e1logo mais construtivo e baseado em evid\\u00eancias.  No cen\\u00e1rio atual, a quest\\u00e3o de Olimp\\u00edadas tem ganhado cada vez mais relev\\u00e2ncia. Especialistas apontam que a implementa\\u00e7\\u00e3o de novas pol\\u00edticas e a conscientiza\\u00e7\\u00e3o da popula\\u00e7\\u00e3o s\\u00e3o cruciais para enfrentar os desafios. A discuss\\u00e3o sobre Olimp\\u00edadas envolve m\\u00faltiplos setores da sociedade, desde o governo at\\u00e9 as organiza\\u00e7\\u00f5es n\\u00e3o governamentais. \\u00c9 fundamental que haja um esfor\\u00e7o conjunto para garantir um futuro sustent\\u00e1vel e pr\\u00f3spero. A an\\u00e1lise detalhada dos dados revela que v tem sido um fator chave para o avan\\u00e7o, enquanto \\u00e3 ainda representa um obst\\u00e1culo significativo. Novos estudos indicam que a colabora\\u00e7\\u00e3o internacional pode acelerar a resolu\\u00e7\\u00e3o dos problemas.  No cen\\u00e1rio atual, a quest\\u00e3o de Olimp\\u00edadas tem ganhado cada vez mais relev\\u00e2ncia. Especialistas apontam que a implementa\\u00e7\\u00e3o de novas pol\\u00edticas e a conscientiza\\u00e7\\u00e3o da popula\\u00e7\\u00e3o s\\u00e3o cruciais para enfrentar os desafios. A discuss\\u00e3o sobre Olimp\\u00edadas envolve m\\u00faltiplos setores da sociedade, desde o governo at\\u00e9 as organiza\\u00e7\\u00f5es n\\u00e3o governamentais. \\u00c9 fundamental que haja um esfor\\u00e7o conjunto para garantir um futuro sustent\\u00e1vel e pr\\u00f3spero. A an\\u00e1lise detalhada dos dados revela que l tem sido um fator chave para o avan\\u00e7o, enquanto l ainda representa um obst\\u00e1culo significativo. Novos estudos indicam que a colabora\\u00e7\\u00e3o internacional pode acelerar a resolu\\u00e7\\u00e3o dos problemas.  O debate sobre Olimp\\u00edadas tem gerado intensas discuss\\u00f5es em f\\u00f3runs nacionais e internacionais. Diferentes perspectivas e abordagens s\\u00e3o apresentadas, refletindo a complexidade do tema. A busca por um consenso e a constru\\u00e7\\u00e3o de solu\\u00e7\\u00f5es eficazes s\\u00e3o os principais objetivos. A participa\\u00e7\\u00e3o da sociedade civil e o engajamento dos l\\u00edderes mundiais s\\u00e3o indispens\\u00e1veis para alcan\\u00e7ar resultados significativos. A polariza\\u00e7\\u00e3o de opini\\u00f5es em torno de Olimp\\u00edadas demonstra a necessidade de um di\\u00e1logo mais construtivo e baseado em evid\\u00eancias.  Lorem ipsum dolor sit amet, consectetur adipiscing elit. Sed do eiusmod tempor incididunt ut labore et dolore magna aliqua. Ut enim ad minim veniam, quis nostrud exercitation ullamco laboris nisi ut aliquip ex ea commodo consequat. Duis aute irure dolor in reprehenderit in voluptate velit esse cillum dolore eu fugiat nulla pariatur. Excepteur sint occaecat cupidatat non proident, sunt in culpa qui officia deserunt mollit anim id est laborum.  O debate sobre Olimp\\u00edadas tem gerado intensas discuss\\u00f5es em f\\u00f3runs nacionais e internacionais. Diferentes perspectivas e abordagens s\\u00e3o apresentadas, refletindo a complexidade do tema. A busca por um consenso e a constru\\u00e7\\u00e3o de solu\\u00e7\\u00f5es eficazes s\\u00e3o os principais objetivos. A participa\\u00e7\\u00e3o da sociedade civil e o engajamento dos l\\u00edderes mundiais s\\u00e3o indispens\\u00e1veis para alcan\\u00e7ar resultados significativos. A polariza\\u00e7\\u00e3o de opini\\u00f5es em torno de Olimp\\u00edadas demonstra a necessidade de um di\\u00e1logo mais construtivo e baseado em evid\\u00eancias.  O debate sobre Olimp\\u00edadas tem gerado intensas discuss\\u00f5es em f\\u00f3runs nacionais e internacionais. Diferentes perspectivas e abordagens s\\u00e3o apresentadas, refletindo a complexidade do tema. A busca por um consenso e a constru\\u00e7\\u00e3o de solu\\u00e7\\u00f5es eficazes s\\u00e3o os principais objetivos. A participa\\u00e7\\u00e3o da sociedade civil e o engajamento dos l\\u00edderes mundiais s\\u00e3o indispens\\u00e1veis para alcan\\u00e7ar resultados significativos. A polariza\\u00e7\\u00e3o de opini\\u00f5es em torno de Olimp\\u00edadas demonstra a necessidade de um di\\u00e1logo mais construtivo e baseado em evid\\u00eancias. \\n\\nDetalhes adicionais sobre Olimp\\u00edadas e suas ramifica\\u00e7\\u00f5es. Artigo gerado em 2025-06-09 09:33:25. ID \\u00fanico: 1861.\",\n          \"Lorem ipsum dolor sit amet, consectetur adipiscing elit. Sed do eiusmod tempor incididunt ut labore et dolore magna aliqua. Ut enim ad minim veniam, quis nostrud exercitation ullamco laboris nisi ut aliquip ex ea commodo consequat. Duis aute irure dolor in reprehenderit in voluptate velit esse cillum dolore eu fugiat nulla pariatur. Excepteur sint occaecat cupidatat non proident, sunt in culpa qui officia deserunt mollit anim id est laborum.  No cen\\u00e1rio atual, a quest\\u00e3o de Futebol tem ganhado cada vez mais relev\\u00e2ncia. Especialistas apontam que a implementa\\u00e7\\u00e3o de novas pol\\u00edticas e a conscientiza\\u00e7\\u00e3o da popula\\u00e7\\u00e3o s\\u00e3o cruciais para enfrentar os desafios. A discuss\\u00e3o sobre Futebol envolve m\\u00faltiplos setores da sociedade, desde o governo at\\u00e9 as organiza\\u00e7\\u00f5es n\\u00e3o governamentais. \\u00c9 fundamental que haja um esfor\\u00e7o conjunto para garantir um futuro sustent\\u00e1vel e pr\\u00f3spero. A an\\u00e1lise detalhada dos dados revela que   tem sido um fator chave para o avan\\u00e7o, enquanto i ainda representa um obst\\u00e1culo significativo. Novos estudos indicam que a colabora\\u00e7\\u00e3o internacional pode acelerar a resolu\\u00e7\\u00e3o dos problemas.  No cen\\u00e1rio atual, a quest\\u00e3o de Futebol tem ganhado cada vez mais relev\\u00e2ncia. Especialistas apontam que a implementa\\u00e7\\u00e3o de novas pol\\u00edticas e a conscientiza\\u00e7\\u00e3o da popula\\u00e7\\u00e3o s\\u00e3o cruciais para enfrentar os desafios. A discuss\\u00e3o sobre Futebol envolve m\\u00faltiplos setores da sociedade, desde o governo at\\u00e9 as organiza\\u00e7\\u00f5es n\\u00e3o governamentais. \\u00c9 fundamental que haja um esfor\\u00e7o conjunto para garantir um futuro sustent\\u00e1vel e pr\\u00f3spero. A an\\u00e1lise detalhada dos dados revela que v tem sido um fator chave para o avan\\u00e7o, enquanto c ainda representa um obst\\u00e1culo significativo. Novos estudos indicam que a colabora\\u00e7\\u00e3o internacional pode acelerar a resolu\\u00e7\\u00e3o dos problemas.  O debate sobre Futebol tem gerado intensas discuss\\u00f5es em f\\u00f3runs nacionais e internacionais. Diferentes perspectivas e abordagens s\\u00e3o apresentadas, refletindo a complexidade do tema. A busca por um consenso e a constru\\u00e7\\u00e3o de solu\\u00e7\\u00f5es eficazes s\\u00e3o os principais objetivos. A participa\\u00e7\\u00e3o da sociedade civil e o engajamento dos l\\u00edderes mundiais s\\u00e3o indispens\\u00e1veis para alcan\\u00e7ar resultados significativos. A polariza\\u00e7\\u00e3o de opini\\u00f5es em torno de Futebol demonstra a necessidade de um di\\u00e1logo mais construtivo e baseado em evid\\u00eancias.  Lorem ipsum dolor sit amet, consectetur adipiscing elit. Sed do eiusmod tempor incididunt ut labore et dolore magna aliqua. Ut enim ad minim veniam, quis nostrud exercitation ullamco laboris nisi ut aliquip ex ea commodo consequat. Duis aute irure dolor in reprehenderit in voluptate velit esse cillum dolore eu fugiat nulla pariatur. Excepteur sint occaecat cupidatat non proident, sunt in culpa qui officia deserunt mollit anim id est laborum.  Com a evolu\\u00e7\\u00e3o tecnol\\u00f3gica, Futebol se tornou um pilar fundamental para o desenvolvimento de diversas ind\\u00fastrias. A automa\\u00e7\\u00e3o e a intelig\\u00eancia artificial est\\u00e3o transformando os processos produtivos e criando novas oportunidades de mercado. No entanto, \\u00e9 preciso estar atento aos impactos sociais e \\u00e9ticos dessa revolu\\u00e7\\u00e3o. A capacita\\u00e7\\u00e3o profissional e a regulamenta\\u00e7\\u00e3o s\\u00e3o essenciais para garantir que os benef\\u00edcios de Futebol sejam compartilhados por todos. A discuss\\u00e3o sobre a governan\\u00e7a de Futebol \\u00e9 crucial para evitar desequil\\u00edbrios e promover um crescimento inclusivo.  Com a evolu\\u00e7\\u00e3o tecnol\\u00f3gica, Futebol se tornou um pilar fundamental para o desenvolvimento de diversas ind\\u00fastrias. A automa\\u00e7\\u00e3o e a intelig\\u00eancia artificial est\\u00e3o transformando os processos produtivos e criando novas oportunidades de mercado. No entanto, \\u00e9 preciso estar atento aos impactos sociais e \\u00e9ticos dessa revolu\\u00e7\\u00e3o. A capacita\\u00e7\\u00e3o profissional e a regulamenta\\u00e7\\u00e3o s\\u00e3o essenciais para garantir que os benef\\u00edcios de Futebol sejam compartilhados por todos. A discuss\\u00e3o sobre a governan\\u00e7a de Futebol \\u00e9 crucial para evitar desequil\\u00edbrios e promover um crescimento inclusivo.  A recente pesquisa sobre Futebol revelou dados surpreendentes que podem mudar a forma como entendemos o assunto. Os resultados indicam uma tend\\u00eancia de crescimento em o e um decl\\u00ednio em c. Cientistas de diversas universidades est\\u00e3o colaborando para aprofundar os estudos e buscar solu\\u00e7\\u00f5es inovadoras. A comunidade cient\\u00edfica espera que essas descobertas impulsionem novas iniciativas e investimentos na \\u00e1rea. A metodologia utilizada permitiu uma vis\\u00e3o abrangente dos fen\\u00f4menos, e as implica\\u00e7\\u00f5es para o futuro s\\u00e3o vastas. \\n\\nDetalhes adicionais sobre Futebol e suas ramifica\\u00e7\\u00f5es. Artigo gerado em 2025-06-09 09:33:25. ID \\u00fanico: 354.\",\n          \"Com a evolu\\u00e7\\u00e3o tecnol\\u00f3gica, Pandemia se tornou um pilar fundamental para o desenvolvimento de diversas ind\\u00fastrias. A automa\\u00e7\\u00e3o e a intelig\\u00eancia artificial est\\u00e3o transformando os processos produtivos e criando novas oportunidades de mercado. No entanto, \\u00e9 preciso estar atento aos impactos sociais e \\u00e9ticos dessa revolu\\u00e7\\u00e3o. A capacita\\u00e7\\u00e3o profissional e a regulamenta\\u00e7\\u00e3o s\\u00e3o essenciais para garantir que os benef\\u00edcios de Pandemia sejam compartilhados por todos. A discuss\\u00e3o sobre a governan\\u00e7a de Pandemia \\u00e9 crucial para evitar desequil\\u00edbrios e promover um crescimento inclusivo.  Com a evolu\\u00e7\\u00e3o tecnol\\u00f3gica, Pandemia se tornou um pilar fundamental para o desenvolvimento de diversas ind\\u00fastrias. A automa\\u00e7\\u00e3o e a intelig\\u00eancia artificial est\\u00e3o transformando os processos produtivos e criando novas oportunidades de mercado. No entanto, \\u00e9 preciso estar atento aos impactos sociais e \\u00e9ticos dessa revolu\\u00e7\\u00e3o. A capacita\\u00e7\\u00e3o profissional e a regulamenta\\u00e7\\u00e3o s\\u00e3o essenciais para garantir que os benef\\u00edcios de Pandemia sejam compartilhados por todos. A discuss\\u00e3o sobre a governan\\u00e7a de Pandemia \\u00e9 crucial para evitar desequil\\u00edbrios e promover um crescimento inclusivo.  No cen\\u00e1rio atual, a quest\\u00e3o de Pandemia tem ganhado cada vez mais relev\\u00e2ncia. Especialistas apontam que a implementa\\u00e7\\u00e3o de novas pol\\u00edticas e a conscientiza\\u00e7\\u00e3o da popula\\u00e7\\u00e3o s\\u00e3o cruciais para enfrentar os desafios. A discuss\\u00e3o sobre Pandemia envolve m\\u00faltiplos setores da sociedade, desde o governo at\\u00e9 as organiza\\u00e7\\u00f5es n\\u00e3o governamentais. \\u00c9 fundamental que haja um esfor\\u00e7o conjunto para garantir um futuro sustent\\u00e1vel e pr\\u00f3spero. A an\\u00e1lise detalhada dos dados revela que e tem sido um fator chave para o avan\\u00e7o, enquanto s ainda representa um obst\\u00e1culo significativo. Novos estudos indicam que a colabora\\u00e7\\u00e3o internacional pode acelerar a resolu\\u00e7\\u00e3o dos problemas.  No cen\\u00e1rio atual, a quest\\u00e3o de Pandemia tem ganhado cada vez mais relev\\u00e2ncia. Especialistas apontam que a implementa\\u00e7\\u00e3o de novas pol\\u00edticas e a conscientiza\\u00e7\\u00e3o da popula\\u00e7\\u00e3o s\\u00e3o cruciais para enfrentar os desafios. A discuss\\u00e3o sobre Pandemia envolve m\\u00faltiplos setores da sociedade, desde o governo at\\u00e9 as organiza\\u00e7\\u00f5es n\\u00e3o governamentais. \\u00c9 fundamental que haja um esfor\\u00e7o conjunto para garantir um futuro sustent\\u00e1vel e pr\\u00f3spero. A an\\u00e1lise detalhada dos dados revela que u tem sido um fator chave para o avan\\u00e7o, enquanto r ainda representa um obst\\u00e1culo significativo. Novos estudos indicam que a colabora\\u00e7\\u00e3o internacional pode acelerar a resolu\\u00e7\\u00e3o dos problemas.  Lorem ipsum dolor sit amet, consectetur adipiscing elit. Sed do eiusmod tempor incididunt ut labore et dolore magna aliqua. Ut enim ad minim veniam, quis nostrud exercitation ullamco laboris nisi ut aliquip ex ea commodo consequat. Duis aute irure dolor in reprehenderit in voluptate velit esse cillum dolore eu fugiat nulla pariatur. Excepteur sint occaecat cupidatat non proident, sunt in culpa qui officia deserunt mollit anim id est laborum.  No cen\\u00e1rio atual, a quest\\u00e3o de Pandemia tem ganhado cada vez mais relev\\u00e2ncia. Especialistas apontam que a implementa\\u00e7\\u00e3o de novas pol\\u00edticas e a conscientiza\\u00e7\\u00e3o da popula\\u00e7\\u00e3o s\\u00e3o cruciais para enfrentar os desafios. A discuss\\u00e3o sobre Pandemia envolve m\\u00faltiplos setores da sociedade, desde o governo at\\u00e9 as organiza\\u00e7\\u00f5es n\\u00e3o governamentais. \\u00c9 fundamental que haja um esfor\\u00e7o conjunto para garantir um futuro sustent\\u00e1vel e pr\\u00f3spero. A an\\u00e1lise detalhada dos dados revela que s tem sido um fator chave para o avan\\u00e7o, enquanto r ainda representa um obst\\u00e1culo significativo. Novos estudos indicam que a colabora\\u00e7\\u00e3o internacional pode acelerar a resolu\\u00e7\\u00e3o dos problemas.  Lorem ipsum dolor sit amet, consectetur adipiscing elit. Sed do eiusmod tempor incididunt ut labore et dolore magna aliqua. Ut enim ad minim veniam, quis nostrud exercitation ullamco laboris nisi ut aliquip ex ea commodo consequat. Duis aute irure dolor in reprehenderit in voluptate velit esse cillum dolore eu fugiat nulla pariatur. Excepteur sint occaecat cupidatat non proident, sunt in culpa qui officia deserunt mollit anim id est laborum.  Lorem ipsum dolor sit amet, consectetur adipiscing elit. Sed do eiusmod tempor incididunt ut labore et dolore magna aliqua. Ut enim ad minim veniam, quis nostrud exercitation ullamco laboris nisi ut aliquip ex ea commodo consequat. Duis aute irure dolor in reprehenderit in voluptate velit esse cillum dolore eu fugiat nulla pariatur. Excepteur sint occaecat cupidatat non proident, sunt in culpa qui officia deserunt mollit anim id est laborum.  A recente pesquisa sobre Pandemia revelou dados surpreendentes que podem mudar a forma como entendemos o assunto. Os resultados indicam uma tend\\u00eancia de crescimento em s e um decl\\u00ednio em o. Cientistas de diversas universidades est\\u00e3o colaborando para aprofundar os estudos e buscar solu\\u00e7\\u00f5es inovadoras. A comunidade cient\\u00edfica espera que essas descobertas impulsionem novas iniciativas e investimentos na \\u00e1rea. A metodologia utilizada permitiu uma vis\\u00e3o abrangente dos fen\\u00f4menos, e as implica\\u00e7\\u00f5es para o futuro s\\u00e3o vastas.  O debate sobre Pandemia tem gerado intensas discuss\\u00f5es em f\\u00f3runs nacionais e internacionais. Diferentes perspectivas e abordagens s\\u00e3o apresentadas, refletindo a complexidade do tema. A busca por um consenso e a constru\\u00e7\\u00e3o de solu\\u00e7\\u00f5es eficazes s\\u00e3o os principais objetivos. A participa\\u00e7\\u00e3o da sociedade civil e o engajamento dos l\\u00edderes mundiais s\\u00e3o indispens\\u00e1veis para alcan\\u00e7ar resultados significativos. A polariza\\u00e7\\u00e3o de opini\\u00f5es em torno de Pandemia demonstra a necessidade de um di\\u00e1logo mais construtivo e baseado em evid\\u00eancias. \\n\\nDetalhes adicionais sobre Pandemia e suas ramifica\\u00e7\\u00f5es. Artigo gerado em 2025-06-09 09:33:25. ID \\u00fanico: 1334.\"\n        ],\n        \"semantic_type\": \"\",\n        \"description\": \"\"\n      }\n    },\n    {\n      \"column\": \"date\",\n      \"properties\": {\n        \"dtype\": \"object\",\n        \"num_unique_values\": 2000,\n        \"samples\": [\n          \"2028-02-04\",\n          \"2023-12-20\",\n          \"2026-08-26\"\n        ],\n        \"semantic_type\": \"\",\n        \"description\": \"\"\n      }\n    },\n    {\n      \"column\": \"category\",\n      \"properties\": {\n        \"dtype\": \"category\",\n        \"num_unique_values\": 8,\n        \"samples\": [\n          \"Sa\\u00fade\",\n          \"Pol\\u00edtica\",\n          \"Tecnologia\"\n        ],\n        \"semantic_type\": \"\",\n        \"description\": \"\"\n      }\n    },\n    {\n      \"column\": \"subcategory\",\n      \"properties\": {\n        \"dtype\": \"category\",\n        \"num_unique_values\": 33,\n        \"samples\": [\n          \"Machine Learning\",\n          \"Aquecimento Global\",\n          \"Legisla\\u00e7\\u00e3o\"\n        ],\n        \"semantic_type\": \"\",\n        \"description\": \"\"\n      }\n    },\n    {\n      \"column\": \"link\",\n      \"properties\": {\n        \"dtype\": \"string\",\n        \"num_unique_values\": 2000,\n        \"samples\": [\n          \"http://noticias.com/artigo/esportes/olimp\\u00edadas/1861\",\n          \"http://noticias.com/artigo/esportes/futebol/354\",\n          \"http://noticias.com/artigo/sa\\u00fade/pandemia/1334\"\n        ],\n        \"semantic_type\": \"\",\n        \"description\": \"\"\n      }\n    }\n  ]\n}"
            }
          },
          "metadata": {},
          "execution_count": 64
        }
      ]
    },
    {
      "cell_type": "code",
      "source": [
        "artigo_teste.head()"
      ],
      "metadata": {
        "colab": {
          "base_uri": "https://localhost:8080/",
          "height": 206
        },
        "id": "6uLrVUqQ15TE",
        "outputId": "af6a756b-500e-48e0-9773-ae665be9502e"
      },
      "execution_count": 65,
      "outputs": [
        {
          "output_type": "execute_result",
          "data": {
            "text/plain": [
              "                                               title  \\\n",
              "0  Crise ou Oportunidade? A Dinâmica de Relações ...   \n",
              "1  Opinião do Especialista: Os Desafios e Oportun...   \n",
              "2  Análise aprofundada: O Impacto de Emprego no C...   \n",
              "3  Debate Aberto: Desenvolvimento de Software ent...   \n",
              "4  Crise ou Oportunidade? A Dinâmica de Emprego e...   \n",
              "\n",
              "                                                text        date    category  \\\n",
              "0  Lorem ipsum dolor sit amet, consectetur adipis...  2023-01-01    Política   \n",
              "1  A recente pesquisa sobre Bem-estar revelou dad...  2023-01-02       Saúde   \n",
              "2  O debate sobre Emprego tem gerado intensas dis...  2023-01-03    Economia   \n",
              "3  No cenário atual, a questão de Desenvolvimento...  2023-01-04  Tecnologia   \n",
              "4  O debate sobre Emprego tem gerado intensas dis...  2023-01-05    Economia   \n",
              "\n",
              "                   subcategory  \\\n",
              "0      Relações Internacionais   \n",
              "1                    Bem-estar   \n",
              "2                      Emprego   \n",
              "3  Desenvolvimento de Software   \n",
              "4                      Emprego   \n",
              "\n",
              "                                                link  \n",
              "0  http://noticias.com/artigo/política/relações-i...  \n",
              "1       http://noticias.com/artigo/saúde/bem-estar/2  \n",
              "2      http://noticias.com/artigo/economia/emprego/3  \n",
              "3  http://noticias.com/artigo/tecnologia/desenvol...  \n",
              "4      http://noticias.com/artigo/economia/emprego/5  "
            ],
            "text/html": [
              "\n",
              "  <div id=\"df-1802b95e-401e-4c91-836c-04c9e538c6d4\" class=\"colab-df-container\">\n",
              "    <div>\n",
              "<style scoped>\n",
              "    .dataframe tbody tr th:only-of-type {\n",
              "        vertical-align: middle;\n",
              "    }\n",
              "\n",
              "    .dataframe tbody tr th {\n",
              "        vertical-align: top;\n",
              "    }\n",
              "\n",
              "    .dataframe thead th {\n",
              "        text-align: right;\n",
              "    }\n",
              "</style>\n",
              "<table border=\"1\" class=\"dataframe\">\n",
              "  <thead>\n",
              "    <tr style=\"text-align: right;\">\n",
              "      <th></th>\n",
              "      <th>title</th>\n",
              "      <th>text</th>\n",
              "      <th>date</th>\n",
              "      <th>category</th>\n",
              "      <th>subcategory</th>\n",
              "      <th>link</th>\n",
              "    </tr>\n",
              "  </thead>\n",
              "  <tbody>\n",
              "    <tr>\n",
              "      <th>0</th>\n",
              "      <td>Crise ou Oportunidade? A Dinâmica de Relações ...</td>\n",
              "      <td>Lorem ipsum dolor sit amet, consectetur adipis...</td>\n",
              "      <td>2023-01-01</td>\n",
              "      <td>Política</td>\n",
              "      <td>Relações Internacionais</td>\n",
              "      <td>http://noticias.com/artigo/política/relações-i...</td>\n",
              "    </tr>\n",
              "    <tr>\n",
              "      <th>1</th>\n",
              "      <td>Opinião do Especialista: Os Desafios e Oportun...</td>\n",
              "      <td>A recente pesquisa sobre Bem-estar revelou dad...</td>\n",
              "      <td>2023-01-02</td>\n",
              "      <td>Saúde</td>\n",
              "      <td>Bem-estar</td>\n",
              "      <td>http://noticias.com/artigo/saúde/bem-estar/2</td>\n",
              "    </tr>\n",
              "    <tr>\n",
              "      <th>2</th>\n",
              "      <td>Análise aprofundada: O Impacto de Emprego no C...</td>\n",
              "      <td>O debate sobre Emprego tem gerado intensas dis...</td>\n",
              "      <td>2023-01-03</td>\n",
              "      <td>Economia</td>\n",
              "      <td>Emprego</td>\n",
              "      <td>http://noticias.com/artigo/economia/emprego/3</td>\n",
              "    </tr>\n",
              "    <tr>\n",
              "      <th>3</th>\n",
              "      <td>Debate Aberto: Desenvolvimento de Software ent...</td>\n",
              "      <td>No cenário atual, a questão de Desenvolvimento...</td>\n",
              "      <td>2023-01-04</td>\n",
              "      <td>Tecnologia</td>\n",
              "      <td>Desenvolvimento de Software</td>\n",
              "      <td>http://noticias.com/artigo/tecnologia/desenvol...</td>\n",
              "    </tr>\n",
              "    <tr>\n",
              "      <th>4</th>\n",
              "      <td>Crise ou Oportunidade? A Dinâmica de Emprego e...</td>\n",
              "      <td>O debate sobre Emprego tem gerado intensas dis...</td>\n",
              "      <td>2023-01-05</td>\n",
              "      <td>Economia</td>\n",
              "      <td>Emprego</td>\n",
              "      <td>http://noticias.com/artigo/economia/emprego/5</td>\n",
              "    </tr>\n",
              "  </tbody>\n",
              "</table>\n",
              "</div>\n",
              "    <div class=\"colab-df-buttons\">\n",
              "\n",
              "  <div class=\"colab-df-container\">\n",
              "    <button class=\"colab-df-convert\" onclick=\"convertToInteractive('df-1802b95e-401e-4c91-836c-04c9e538c6d4')\"\n",
              "            title=\"Convert this dataframe to an interactive table.\"\n",
              "            style=\"display:none;\">\n",
              "\n",
              "  <svg xmlns=\"http://www.w3.org/2000/svg\" height=\"24px\" viewBox=\"0 -960 960 960\">\n",
              "    <path d=\"M120-120v-720h720v720H120Zm60-500h600v-160H180v160Zm220 220h160v-160H400v160Zm0 220h160v-160H400v160ZM180-400h160v-160H180v160Zm440 0h160v-160H620v160ZM180-180h160v-160H180v160Zm440 0h160v-160H620v160Z\"/>\n",
              "  </svg>\n",
              "    </button>\n",
              "\n",
              "  <style>\n",
              "    .colab-df-container {\n",
              "      display:flex;\n",
              "      gap: 12px;\n",
              "    }\n",
              "\n",
              "    .colab-df-convert {\n",
              "      background-color: #E8F0FE;\n",
              "      border: none;\n",
              "      border-radius: 50%;\n",
              "      cursor: pointer;\n",
              "      display: none;\n",
              "      fill: #1967D2;\n",
              "      height: 32px;\n",
              "      padding: 0 0 0 0;\n",
              "      width: 32px;\n",
              "    }\n",
              "\n",
              "    .colab-df-convert:hover {\n",
              "      background-color: #E2EBFA;\n",
              "      box-shadow: 0px 1px 2px rgba(60, 64, 67, 0.3), 0px 1px 3px 1px rgba(60, 64, 67, 0.15);\n",
              "      fill: #174EA6;\n",
              "    }\n",
              "\n",
              "    .colab-df-buttons div {\n",
              "      margin-bottom: 4px;\n",
              "    }\n",
              "\n",
              "    [theme=dark] .colab-df-convert {\n",
              "      background-color: #3B4455;\n",
              "      fill: #D2E3FC;\n",
              "    }\n",
              "\n",
              "    [theme=dark] .colab-df-convert:hover {\n",
              "      background-color: #434B5C;\n",
              "      box-shadow: 0px 1px 3px 1px rgba(0, 0, 0, 0.15);\n",
              "      filter: drop-shadow(0px 1px 2px rgba(0, 0, 0, 0.3));\n",
              "      fill: #FFFFFF;\n",
              "    }\n",
              "  </style>\n",
              "\n",
              "    <script>\n",
              "      const buttonEl =\n",
              "        document.querySelector('#df-1802b95e-401e-4c91-836c-04c9e538c6d4 button.colab-df-convert');\n",
              "      buttonEl.style.display =\n",
              "        google.colab.kernel.accessAllowed ? 'block' : 'none';\n",
              "\n",
              "      async function convertToInteractive(key) {\n",
              "        const element = document.querySelector('#df-1802b95e-401e-4c91-836c-04c9e538c6d4');\n",
              "        const dataTable =\n",
              "          await google.colab.kernel.invokeFunction('convertToInteractive',\n",
              "                                                    [key], {});\n",
              "        if (!dataTable) return;\n",
              "\n",
              "        const docLinkHtml = 'Like what you see? Visit the ' +\n",
              "          '<a target=\"_blank\" href=https://colab.research.google.com/notebooks/data_table.ipynb>data table notebook</a>'\n",
              "          + ' to learn more about interactive tables.';\n",
              "        element.innerHTML = '';\n",
              "        dataTable['output_type'] = 'display_data';\n",
              "        await google.colab.output.renderOutput(dataTable, element);\n",
              "        const docLink = document.createElement('div');\n",
              "        docLink.innerHTML = docLinkHtml;\n",
              "        element.appendChild(docLink);\n",
              "      }\n",
              "    </script>\n",
              "  </div>\n",
              "\n",
              "\n",
              "    <div id=\"df-61e51d73-6cb9-4f33-a479-d156a75dc9b8\">\n",
              "      <button class=\"colab-df-quickchart\" onclick=\"quickchart('df-61e51d73-6cb9-4f33-a479-d156a75dc9b8')\"\n",
              "                title=\"Suggest charts\"\n",
              "                style=\"display:none;\">\n",
              "\n",
              "<svg xmlns=\"http://www.w3.org/2000/svg\" height=\"24px\"viewBox=\"0 0 24 24\"\n",
              "     width=\"24px\">\n",
              "    <g>\n",
              "        <path d=\"M19 3H5c-1.1 0-2 .9-2 2v14c0 1.1.9 2 2 2h14c1.1 0 2-.9 2-2V5c0-1.1-.9-2-2-2zM9 17H7v-7h2v7zm4 0h-2V7h2v10zm4 0h-2v-4h2v4z\"/>\n",
              "    </g>\n",
              "</svg>\n",
              "      </button>\n",
              "\n",
              "<style>\n",
              "  .colab-df-quickchart {\n",
              "      --bg-color: #E8F0FE;\n",
              "      --fill-color: #1967D2;\n",
              "      --hover-bg-color: #E2EBFA;\n",
              "      --hover-fill-color: #174EA6;\n",
              "      --disabled-fill-color: #AAA;\n",
              "      --disabled-bg-color: #DDD;\n",
              "  }\n",
              "\n",
              "  [theme=dark] .colab-df-quickchart {\n",
              "      --bg-color: #3B4455;\n",
              "      --fill-color: #D2E3FC;\n",
              "      --hover-bg-color: #434B5C;\n",
              "      --hover-fill-color: #FFFFFF;\n",
              "      --disabled-bg-color: #3B4455;\n",
              "      --disabled-fill-color: #666;\n",
              "  }\n",
              "\n",
              "  .colab-df-quickchart {\n",
              "    background-color: var(--bg-color);\n",
              "    border: none;\n",
              "    border-radius: 50%;\n",
              "    cursor: pointer;\n",
              "    display: none;\n",
              "    fill: var(--fill-color);\n",
              "    height: 32px;\n",
              "    padding: 0;\n",
              "    width: 32px;\n",
              "  }\n",
              "\n",
              "  .colab-df-quickchart:hover {\n",
              "    background-color: var(--hover-bg-color);\n",
              "    box-shadow: 0 1px 2px rgba(60, 64, 67, 0.3), 0 1px 3px 1px rgba(60, 64, 67, 0.15);\n",
              "    fill: var(--button-hover-fill-color);\n",
              "  }\n",
              "\n",
              "  .colab-df-quickchart-complete:disabled,\n",
              "  .colab-df-quickchart-complete:disabled:hover {\n",
              "    background-color: var(--disabled-bg-color);\n",
              "    fill: var(--disabled-fill-color);\n",
              "    box-shadow: none;\n",
              "  }\n",
              "\n",
              "  .colab-df-spinner {\n",
              "    border: 2px solid var(--fill-color);\n",
              "    border-color: transparent;\n",
              "    border-bottom-color: var(--fill-color);\n",
              "    animation:\n",
              "      spin 1s steps(1) infinite;\n",
              "  }\n",
              "\n",
              "  @keyframes spin {\n",
              "    0% {\n",
              "      border-color: transparent;\n",
              "      border-bottom-color: var(--fill-color);\n",
              "      border-left-color: var(--fill-color);\n",
              "    }\n",
              "    20% {\n",
              "      border-color: transparent;\n",
              "      border-left-color: var(--fill-color);\n",
              "      border-top-color: var(--fill-color);\n",
              "    }\n",
              "    30% {\n",
              "      border-color: transparent;\n",
              "      border-left-color: var(--fill-color);\n",
              "      border-top-color: var(--fill-color);\n",
              "      border-right-color: var(--fill-color);\n",
              "    }\n",
              "    40% {\n",
              "      border-color: transparent;\n",
              "      border-right-color: var(--fill-color);\n",
              "      border-top-color: var(--fill-color);\n",
              "    }\n",
              "    60% {\n",
              "      border-color: transparent;\n",
              "      border-right-color: var(--fill-color);\n",
              "    }\n",
              "    80% {\n",
              "      border-color: transparent;\n",
              "      border-right-color: var(--fill-color);\n",
              "      border-bottom-color: var(--fill-color);\n",
              "    }\n",
              "    90% {\n",
              "      border-color: transparent;\n",
              "      border-bottom-color: var(--fill-color);\n",
              "    }\n",
              "  }\n",
              "</style>\n",
              "\n",
              "      <script>\n",
              "        async function quickchart(key) {\n",
              "          const quickchartButtonEl =\n",
              "            document.querySelector('#' + key + ' button');\n",
              "          quickchartButtonEl.disabled = true;  // To prevent multiple clicks.\n",
              "          quickchartButtonEl.classList.add('colab-df-spinner');\n",
              "          try {\n",
              "            const charts = await google.colab.kernel.invokeFunction(\n",
              "                'suggestCharts', [key], {});\n",
              "          } catch (error) {\n",
              "            console.error('Error during call to suggestCharts:', error);\n",
              "          }\n",
              "          quickchartButtonEl.classList.remove('colab-df-spinner');\n",
              "          quickchartButtonEl.classList.add('colab-df-quickchart-complete');\n",
              "        }\n",
              "        (() => {\n",
              "          let quickchartButtonEl =\n",
              "            document.querySelector('#df-61e51d73-6cb9-4f33-a479-d156a75dc9b8 button');\n",
              "          quickchartButtonEl.style.display =\n",
              "            google.colab.kernel.accessAllowed ? 'block' : 'none';\n",
              "        })();\n",
              "      </script>\n",
              "    </div>\n",
              "\n",
              "    </div>\n",
              "  </div>\n"
            ],
            "application/vnd.google.colaboratory.intrinsic+json": {
              "type": "dataframe",
              "variable_name": "artigo_teste",
              "summary": "{\n  \"name\": \"artigo_teste\",\n  \"rows\": 2000,\n  \"fields\": [\n    {\n      \"column\": \"title\",\n      \"properties\": {\n        \"dtype\": \"category\",\n        \"num_unique_values\": 330,\n        \"samples\": [\n          \"Manchete Urgente: Aquecimento Global em Destaque - Entenda os \\u00daltimos Acontecimentos\",\n          \"Exclusivo: Novas Descobertas Revolucion\\u00e1rias em Com\\u00e9rcio Exterior e o que elas Significam\",\n          \"An\\u00e1lise aprofundada: O Impacto de Basquete no Cen\\u00e1rio Global e suas Implica\\u00e7\\u00f5es Futuras\"\n        ],\n        \"semantic_type\": \"\",\n        \"description\": \"\"\n      }\n    },\n    {\n      \"column\": \"text\",\n      \"properties\": {\n        \"dtype\": \"string\",\n        \"num_unique_values\": 2000,\n        \"samples\": [\n          \"Com a evolu\\u00e7\\u00e3o tecnol\\u00f3gica, Artes C\\u00eanicas se tornou um pilar fundamental para o desenvolvimento de diversas ind\\u00fastrias. A automa\\u00e7\\u00e3o e a intelig\\u00eancia artificial est\\u00e3o transformando os processos produtivos e criando novas oportunidades de mercado. No entanto, \\u00e9 preciso estar atento aos impactos sociais e \\u00e9ticos dessa revolu\\u00e7\\u00e3o. A capacita\\u00e7\\u00e3o profissional e a regulamenta\\u00e7\\u00e3o s\\u00e3o essenciais para garantir que os benef\\u00edcios de Artes C\\u00eanicas sejam compartilhados por todos. A discuss\\u00e3o sobre a governan\\u00e7a de Artes C\\u00eanicas \\u00e9 crucial para evitar desequil\\u00edbrios e promover um crescimento inclusivo.  Lorem ipsum dolor sit amet, consectetur adipiscing elit. Sed do eiusmod tempor incididunt ut labore et dolore magna aliqua. Ut enim ad minim veniam, quis nostrud exercitation ullamco laboris nisi ut aliquip ex ea commodo consequat. Duis aute irure dolor in reprehenderit in voluptate velit esse cillum dolore eu fugiat nulla pariatur. Excepteur sint occaecat cupidatat non proident, sunt in culpa qui officia deserunt mollit anim id est laborum.  No cen\\u00e1rio atual, a quest\\u00e3o de Artes C\\u00eanicas tem ganhado cada vez mais relev\\u00e2ncia. Especialistas apontam que a implementa\\u00e7\\u00e3o de novas pol\\u00edticas e a conscientiza\\u00e7\\u00e3o da popula\\u00e7\\u00e3o s\\u00e3o cruciais para enfrentar os desafios. A discuss\\u00e3o sobre Artes C\\u00eanicas envolve m\\u00faltiplos setores da sociedade, desde o governo at\\u00e9 as organiza\\u00e7\\u00f5es n\\u00e3o governamentais. \\u00c9 fundamental que haja um esfor\\u00e7o conjunto para garantir um futuro sustent\\u00e1vel e pr\\u00f3spero. A an\\u00e1lise detalhada dos dados revela que v tem sido um fator chave para o avan\\u00e7o, enquanto o ainda representa um obst\\u00e1culo significativo. Novos estudos indicam que a colabora\\u00e7\\u00e3o internacional pode acelerar a resolu\\u00e7\\u00e3o dos problemas.  No cen\\u00e1rio atual, a quest\\u00e3o de Artes C\\u00eanicas tem ganhado cada vez mais relev\\u00e2ncia. Especialistas apontam que a implementa\\u00e7\\u00e3o de novas pol\\u00edticas e a conscientiza\\u00e7\\u00e3o da popula\\u00e7\\u00e3o s\\u00e3o cruciais para enfrentar os desafios. A discuss\\u00e3o sobre Artes C\\u00eanicas envolve m\\u00faltiplos setores da sociedade, desde o governo at\\u00e9 as organiza\\u00e7\\u00f5es n\\u00e3o governamentais. \\u00c9 fundamental que haja um esfor\\u00e7o conjunto para garantir um futuro sustent\\u00e1vel e pr\\u00f3spero. A an\\u00e1lise detalhada dos dados revela que \\u00e3 tem sido um fator chave para o avan\\u00e7o, enquanto o ainda representa um obst\\u00e1culo significativo. Novos estudos indicam que a colabora\\u00e7\\u00e3o internacional pode acelerar a resolu\\u00e7\\u00e3o dos problemas.  Com a evolu\\u00e7\\u00e3o tecnol\\u00f3gica, Artes C\\u00eanicas se tornou um pilar fundamental para o desenvolvimento de diversas ind\\u00fastrias. A automa\\u00e7\\u00e3o e a intelig\\u00eancia artificial est\\u00e3o transformando os processos produtivos e criando novas oportunidades de mercado. No entanto, \\u00e9 preciso estar atento aos impactos sociais e \\u00e9ticos dessa revolu\\u00e7\\u00e3o. A capacita\\u00e7\\u00e3o profissional e a regulamenta\\u00e7\\u00e3o s\\u00e3o essenciais para garantir que os benef\\u00edcios de Artes C\\u00eanicas sejam compartilhados por todos. A discuss\\u00e3o sobre a governan\\u00e7a de Artes C\\u00eanicas \\u00e9 crucial para evitar desequil\\u00edbrios e promover um crescimento inclusivo.  Com a evolu\\u00e7\\u00e3o tecnol\\u00f3gica, Artes C\\u00eanicas se tornou um pilar fundamental para o desenvolvimento de diversas ind\\u00fastrias. A automa\\u00e7\\u00e3o e a intelig\\u00eancia artificial est\\u00e3o transformando os processos produtivos e criando novas oportunidades de mercado. No entanto, \\u00e9 preciso estar atento aos impactos sociais e \\u00e9ticos dessa revolu\\u00e7\\u00e3o. A capacita\\u00e7\\u00e3o profissional e a regulamenta\\u00e7\\u00e3o s\\u00e3o essenciais para garantir que os benef\\u00edcios de Artes C\\u00eanicas sejam compartilhados por todos. A discuss\\u00e3o sobre a governan\\u00e7a de Artes C\\u00eanicas \\u00e9 crucial para evitar desequil\\u00edbrios e promover um crescimento inclusivo.  Com a evolu\\u00e7\\u00e3o tecnol\\u00f3gica, Artes C\\u00eanicas se tornou um pilar fundamental para o desenvolvimento de diversas ind\\u00fastrias. A automa\\u00e7\\u00e3o e a intelig\\u00eancia artificial est\\u00e3o transformando os processos produtivos e criando novas oportunidades de mercado. No entanto, \\u00e9 preciso estar atento aos impactos sociais e \\u00e9ticos dessa revolu\\u00e7\\u00e3o. A capacita\\u00e7\\u00e3o profissional e a regulamenta\\u00e7\\u00e3o s\\u00e3o essenciais para garantir que os benef\\u00edcios de Artes C\\u00eanicas sejam compartilhados por todos. A discuss\\u00e3o sobre a governan\\u00e7a de Artes C\\u00eanicas \\u00e9 crucial para evitar desequil\\u00edbrios e promover um crescimento inclusivo.  Lorem ipsum dolor sit amet, consectetur adipiscing elit. Sed do eiusmod tempor incididunt ut labore et dolore magna aliqua. Ut enim ad minim veniam, quis nostrud exercitation ullamco laboris nisi ut aliquip ex ea commodo consequat. Duis aute irure dolor in reprehenderit in voluptate velit esse cillum dolore eu fugiat nulla pariatur. Excepteur sint occaecat cupidatat non proident, sunt in culpa qui officia deserunt mollit anim id est laborum.  Lorem ipsum dolor sit amet, consectetur adipiscing elit. Sed do eiusmod tempor incididunt ut labore et dolore magna aliqua. Ut enim ad minim veniam, quis nostrud exercitation ullamco laboris nisi ut aliquip ex ea commodo consequat. Duis aute irure dolor in reprehenderit in voluptate velit esse cillum dolore eu fugiat nulla pariatur. Excepteur sint occaecat cupidatat non proident, sunt in culpa qui officia deserunt mollit anim id est laborum. \\n\\nDetalhes adicionais sobre Artes C\\u00eanicas e suas ramifica\\u00e7\\u00f5es. Artigo gerado em 2025-06-09 09:33:25. ID \\u00fanico: 1861.\",\n          \"O debate sobre Pesquisa Cient\\u00edfica tem gerado intensas discuss\\u00f5es em f\\u00f3runs nacionais e internacionais. Diferentes perspectivas e abordagens s\\u00e3o apresentadas, refletindo a complexidade do tema. A busca por um consenso e a constru\\u00e7\\u00e3o de solu\\u00e7\\u00f5es eficazes s\\u00e3o os principais objetivos. A participa\\u00e7\\u00e3o da sociedade civil e o engajamento dos l\\u00edderes mundiais s\\u00e3o indispens\\u00e1veis para alcan\\u00e7ar resultados significativos. A polariza\\u00e7\\u00e3o de opini\\u00f5es em torno de Pesquisa Cient\\u00edfica demonstra a necessidade de um di\\u00e1logo mais construtivo e baseado em evid\\u00eancias.  A recente pesquisa sobre Pesquisa Cient\\u00edfica revelou dados surpreendentes que podem mudar a forma como entendemos o assunto. Os resultados indicam uma tend\\u00eancia de crescimento em a e um decl\\u00ednio em e. Cientistas de diversas universidades est\\u00e3o colaborando para aprofundar os estudos e buscar solu\\u00e7\\u00f5es inovadoras. A comunidade cient\\u00edfica espera que essas descobertas impulsionem novas iniciativas e investimentos na \\u00e1rea. A metodologia utilizada permitiu uma vis\\u00e3o abrangente dos fen\\u00f4menos, e as implica\\u00e7\\u00f5es para o futuro s\\u00e3o vastas.  Com a evolu\\u00e7\\u00e3o tecnol\\u00f3gica, Pesquisa Cient\\u00edfica se tornou um pilar fundamental para o desenvolvimento de diversas ind\\u00fastrias. A automa\\u00e7\\u00e3o e a intelig\\u00eancia artificial est\\u00e3o transformando os processos produtivos e criando novas oportunidades de mercado. No entanto, \\u00e9 preciso estar atento aos impactos sociais e \\u00e9ticos dessa revolu\\u00e7\\u00e3o. A capacita\\u00e7\\u00e3o profissional e a regulamenta\\u00e7\\u00e3o s\\u00e3o essenciais para garantir que os benef\\u00edcios de Pesquisa Cient\\u00edfica sejam compartilhados por todos. A discuss\\u00e3o sobre a governan\\u00e7a de Pesquisa Cient\\u00edfica \\u00e9 crucial para evitar desequil\\u00edbrios e promover um crescimento inclusivo.  Lorem ipsum dolor sit amet, consectetur adipiscing elit. Sed do eiusmod tempor incididunt ut labore et dolore magna aliqua. Ut enim ad minim veniam, quis nostrud exercitation ullamco laboris nisi ut aliquip ex ea commodo consequat. Duis aute irure dolor in reprehenderit in voluptate velit esse cillum dolore eu fugiat nulla pariatur. Excepteur sint occaecat cupidatat non proident, sunt in culpa qui officia deserunt mollit anim id est laborum.  A recente pesquisa sobre Pesquisa Cient\\u00edfica revelou dados surpreendentes que podem mudar a forma como entendemos o assunto. Os resultados indicam uma tend\\u00eancia de crescimento em   e um decl\\u00ednio em g. Cientistas de diversas universidades est\\u00e3o colaborando para aprofundar os estudos e buscar solu\\u00e7\\u00f5es inovadoras. A comunidade cient\\u00edfica espera que essas descobertas impulsionem novas iniciativas e investimentos na \\u00e1rea. A metodologia utilizada permitiu uma vis\\u00e3o abrangente dos fen\\u00f4menos, e as implica\\u00e7\\u00f5es para o futuro s\\u00e3o vastas. \\n\\nDetalhes adicionais sobre Pesquisa Cient\\u00edfica e suas ramifica\\u00e7\\u00f5es. Artigo gerado em 2025-06-09 09:33:25. ID \\u00fanico: 354.\",\n          \"Lorem ipsum dolor sit amet, consectetur adipiscing elit. Sed do eiusmod tempor incididunt ut labore et dolore magna aliqua. Ut enim ad minim veniam, quis nostrud exercitation ullamco laboris nisi ut aliquip ex ea commodo consequat. Duis aute irure dolor in reprehenderit in voluptate velit esse cillum dolore eu fugiat nulla pariatur. Excepteur sint occaecat cupidatat non proident, sunt in culpa qui officia deserunt mollit anim id est laborum.  A recente pesquisa sobre Legisla\\u00e7\\u00e3o revelou dados surpreendentes que podem mudar a forma como entendemos o assunto. Os resultados indicam uma tend\\u00eancia de crescimento em n e um decl\\u00ednio em u. Cientistas de diversas universidades est\\u00e3o colaborando para aprofundar os estudos e buscar solu\\u00e7\\u00f5es inovadoras. A comunidade cient\\u00edfica espera que essas descobertas impulsionem novas iniciativas e investimentos na \\u00e1rea. A metodologia utilizada permitiu uma vis\\u00e3o abrangente dos fen\\u00f4menos, e as implica\\u00e7\\u00f5es para o futuro s\\u00e3o vastas.  Lorem ipsum dolor sit amet, consectetur adipiscing elit. Sed do eiusmod tempor incididunt ut labore et dolore magna aliqua. Ut enim ad minim veniam, quis nostrud exercitation ullamco laboris nisi ut aliquip ex ea commodo consequat. Duis aute irure dolor in reprehenderit in voluptate velit esse cillum dolore eu fugiat nulla pariatur. Excepteur sint occaecat cupidatat non proident, sunt in culpa qui officia deserunt mollit anim id est laborum.  Lorem ipsum dolor sit amet, consectetur adipiscing elit. Sed do eiusmod tempor incididunt ut labore et dolore magna aliqua. Ut enim ad minim veniam, quis nostrud exercitation ullamco laboris nisi ut aliquip ex ea commodo consequat. Duis aute irure dolor in reprehenderit in voluptate velit esse cillum dolore eu fugiat nulla pariatur. Excepteur sint occaecat cupidatat non proident, sunt in culpa qui officia deserunt mollit anim id est laborum.  Lorem ipsum dolor sit amet, consectetur adipiscing elit. Sed do eiusmod tempor incididunt ut labore et dolore magna aliqua. Ut enim ad minim veniam, quis nostrud exercitation ullamco laboris nisi ut aliquip ex ea commodo consequat. Duis aute irure dolor in reprehenderit in voluptate velit esse cillum dolore eu fugiat nulla pariatur. Excepteur sint occaecat cupidatat non proident, sunt in culpa qui officia deserunt mollit anim id est laborum.  No cen\\u00e1rio atual, a quest\\u00e3o de Legisla\\u00e7\\u00e3o tem ganhado cada vez mais relev\\u00e2ncia. Especialistas apontam que a implementa\\u00e7\\u00e3o de novas pol\\u00edticas e a conscientiza\\u00e7\\u00e3o da popula\\u00e7\\u00e3o s\\u00e3o cruciais para enfrentar os desafios. A discuss\\u00e3o sobre Legisla\\u00e7\\u00e3o envolve m\\u00faltiplos setores da sociedade, desde o governo at\\u00e9 as organiza\\u00e7\\u00f5es n\\u00e3o governamentais. \\u00c9 fundamental que haja um esfor\\u00e7o conjunto para garantir um futuro sustent\\u00e1vel e pr\\u00f3spero. A an\\u00e1lise detalhada dos dados revela que f tem sido um fator chave para o avan\\u00e7o, enquanto \\u00e3 ainda representa um obst\\u00e1culo significativo. Novos estudos indicam que a colabora\\u00e7\\u00e3o internacional pode acelerar a resolu\\u00e7\\u00e3o dos problemas.  Lorem ipsum dolor sit amet, consectetur adipiscing elit. Sed do eiusmod tempor incididunt ut labore et dolore magna aliqua. Ut enim ad minim veniam, quis nostrud exercitation ullamco laboris nisi ut aliquip ex ea commodo consequat. Duis aute irure dolor in reprehenderit in voluptate velit esse cillum dolore eu fugiat nulla pariatur. Excepteur sint occaecat cupidatat non proident, sunt in culpa qui officia deserunt mollit anim id est laborum.  A recente pesquisa sobre Legisla\\u00e7\\u00e3o revelou dados surpreendentes que podem mudar a forma como entendemos o assunto. Os resultados indicam uma tend\\u00eancia de crescimento em i e um decl\\u00ednio em p. Cientistas de diversas universidades est\\u00e3o colaborando para aprofundar os estudos e buscar solu\\u00e7\\u00f5es inovadoras. A comunidade cient\\u00edfica espera que essas descobertas impulsionem novas iniciativas e investimentos na \\u00e1rea. A metodologia utilizada permitiu uma vis\\u00e3o abrangente dos fen\\u00f4menos, e as implica\\u00e7\\u00f5es para o futuro s\\u00e3o vastas.  Com a evolu\\u00e7\\u00e3o tecnol\\u00f3gica, Legisla\\u00e7\\u00e3o se tornou um pilar fundamental para o desenvolvimento de diversas ind\\u00fastrias. A automa\\u00e7\\u00e3o e a intelig\\u00eancia artificial est\\u00e3o transformando os processos produtivos e criando novas oportunidades de mercado. No entanto, \\u00e9 preciso estar atento aos impactos sociais e \\u00e9ticos dessa revolu\\u00e7\\u00e3o. A capacita\\u00e7\\u00e3o profissional e a regulamenta\\u00e7\\u00e3o s\\u00e3o essenciais para garantir que os benef\\u00edcios de Legisla\\u00e7\\u00e3o sejam compartilhados por todos. A discuss\\u00e3o sobre a governan\\u00e7a de Legisla\\u00e7\\u00e3o \\u00e9 crucial para evitar desequil\\u00edbrios e promover um crescimento inclusivo. \\n\\nDetalhes adicionais sobre Legisla\\u00e7\\u00e3o e suas ramifica\\u00e7\\u00f5es. Artigo gerado em 2025-06-09 09:33:25. ID \\u00fanico: 1334.\"\n        ],\n        \"semantic_type\": \"\",\n        \"description\": \"\"\n      }\n    },\n    {\n      \"column\": \"date\",\n      \"properties\": {\n        \"dtype\": \"object\",\n        \"num_unique_values\": 2000,\n        \"samples\": [\n          \"2028-02-04\",\n          \"2023-12-20\",\n          \"2026-08-26\"\n        ],\n        \"semantic_type\": \"\",\n        \"description\": \"\"\n      }\n    },\n    {\n      \"column\": \"category\",\n      \"properties\": {\n        \"dtype\": \"category\",\n        \"num_unique_values\": 8,\n        \"samples\": [\n          \"Sa\\u00fade\",\n          \"Cultura\",\n          \"Pol\\u00edtica\"\n        ],\n        \"semantic_type\": \"\",\n        \"description\": \"\"\n      }\n    },\n    {\n      \"column\": \"subcategory\",\n      \"properties\": {\n        \"dtype\": \"category\",\n        \"num_unique_values\": 33,\n        \"samples\": [\n          \"Sustentabilidade\",\n          \"Com\\u00e9rcio Exterior\",\n          \"Energias Renov\\u00e1veis\"\n        ],\n        \"semantic_type\": \"\",\n        \"description\": \"\"\n      }\n    },\n    {\n      \"column\": \"link\",\n      \"properties\": {\n        \"dtype\": \"string\",\n        \"num_unique_values\": 2000,\n        \"samples\": [\n          \"http://noticias.com/artigo/cultura/artes-c\\u00eanicas/1861\",\n          \"http://noticias.com/artigo/educa\\u00e7\\u00e3o/pesquisa-cient\\u00edfica/354\",\n          \"http://noticias.com/artigo/pol\\u00edtica/legisla\\u00e7\\u00e3o/1334\"\n        ],\n        \"semantic_type\": \"\",\n        \"description\": \"\"\n      }\n    }\n  ]\n}"
            }
          },
          "metadata": {},
          "execution_count": 65
        }
      ]
    },
    {
      "cell_type": "code",
      "execution_count": 66,
      "metadata": {
        "colab": {
          "base_uri": "https://localhost:8080/"
        },
        "id": "RDi_TBHuwkT2",
        "outputId": "725ac702-996f-4b48-977b-b209b47a82fa"
      },
      "outputs": [
        {
          "output_type": "stream",
          "name": "stdout",
          "text": [
            "Collecting pt-core-news-sm==3.8.0\n",
            "  Downloading https://github.com/explosion/spacy-models/releases/download/pt_core_news_sm-3.8.0/pt_core_news_sm-3.8.0-py3-none-any.whl (13.0 MB)\n",
            "\u001b[2K     \u001b[90m━━━━━━━━━━━━━━━━━━━━━━━━━━━━━━━━━━━━━━━━\u001b[0m \u001b[32m13.0/13.0 MB\u001b[0m \u001b[31m23.7 MB/s\u001b[0m eta \u001b[36m0:00:00\u001b[0m\n",
            "\u001b[?25h\u001b[38;5;2m✔ Download and installation successful\u001b[0m\n",
            "You can now load the package via spacy.load('pt_core_news_sm')\n",
            "\u001b[38;5;3m⚠ Restart to reload dependencies\u001b[0m\n",
            "If you are in a Jupyter or Colab notebook, you may need to restart Python in\n",
            "order to load all the package's dependencies. You can do this by selecting the\n",
            "'Restart kernel' or 'Restart runtime' option.\n"
          ]
        }
      ],
      "source": [
        "!python -m spacy download pt_core_news_sm"
      ]
    },
    {
      "cell_type": "code",
      "source": [
        "import spacy\n",
        "nlp = spacy.load(\"pt_core_news_sm\")"
      ],
      "metadata": {
        "id": "rV2LeqPP18HM"
      },
      "execution_count": 67,
      "outputs": []
    },
    {
      "cell_type": "code",
      "source": [
        "textos_para_tratamento = (titulos.lower() for titulos in artigo_treino.title)"
      ],
      "metadata": {
        "id": "xI-nEdDK2BPS"
      },
      "execution_count": 68,
      "outputs": []
    },
    {
      "cell_type": "code",
      "source": [
        "def trata_textos(doc):\n",
        "  tokens_validos = []\n",
        "\n",
        "\n",
        "  for token in doc:\n",
        "    e_valido = not token.is_stop and token.is_alpha\n",
        "    if e_valido:\n",
        "      tokens_validos.append(token.text)\n",
        "\n",
        "\n",
        "  if len(tokens_validos) > 2:\n",
        "    return \" \".join(tokens_validos)"
      ],
      "metadata": {
        "id": "rUis7MAH2GWb"
      },
      "execution_count": 69,
      "outputs": []
    },
    {
      "cell_type": "code",
      "source": [
        "textos_tratados = [trata_textos(doc) for doc in nlp.pipe(textos_para_tratamento,\n",
        "                                                        batch_size = 1000,\n",
        "                                                        n_process = -1)]"
      ],
      "metadata": {
        "id": "GMojYjRd2J76"
      },
      "execution_count": 70,
      "outputs": []
    },
    {
      "cell_type": "code",
      "source": [
        "titulos_tratados = pd.DataFrame({\"titulo\": textos_tratados})\n",
        "\n",
        "titulos_tratados.head()"
      ],
      "metadata": {
        "colab": {
          "base_uri": "https://localhost:8080/",
          "height": 206
        },
        "id": "kqFYTcvh2OMb",
        "outputId": "7b94c09f-904d-4a41-f29a-3201f055278d"
      },
      "execution_count": 71,
      "outputs": [
        {
          "output_type": "execute_result",
          "data": {
            "text/plain": [
              "                                              titulo\n",
              "0  opinião especialista desafios oportunidades ha...\n",
              "1  inovação perspectivas papel pandemia transform...\n",
              "2  opinião especialista desafios oportunidades co...\n",
              "3  debate aberto vacinação progresso desafios éticos\n",
              "4  debate aberto reforma educacional progresso de..."
            ],
            "text/html": [
              "\n",
              "  <div id=\"df-d47ea647-3a18-4ffc-8df3-f98f4a8ce4e7\" class=\"colab-df-container\">\n",
              "    <div>\n",
              "<style scoped>\n",
              "    .dataframe tbody tr th:only-of-type {\n",
              "        vertical-align: middle;\n",
              "    }\n",
              "\n",
              "    .dataframe tbody tr th {\n",
              "        vertical-align: top;\n",
              "    }\n",
              "\n",
              "    .dataframe thead th {\n",
              "        text-align: right;\n",
              "    }\n",
              "</style>\n",
              "<table border=\"1\" class=\"dataframe\">\n",
              "  <thead>\n",
              "    <tr style=\"text-align: right;\">\n",
              "      <th></th>\n",
              "      <th>titulo</th>\n",
              "    </tr>\n",
              "  </thead>\n",
              "  <tbody>\n",
              "    <tr>\n",
              "      <th>0</th>\n",
              "      <td>opinião especialista desafios oportunidades ha...</td>\n",
              "    </tr>\n",
              "    <tr>\n",
              "      <th>1</th>\n",
              "      <td>inovação perspectivas papel pandemia transform...</td>\n",
              "    </tr>\n",
              "    <tr>\n",
              "      <th>2</th>\n",
              "      <td>opinião especialista desafios oportunidades co...</td>\n",
              "    </tr>\n",
              "    <tr>\n",
              "      <th>3</th>\n",
              "      <td>debate aberto vacinação progresso desafios éticos</td>\n",
              "    </tr>\n",
              "    <tr>\n",
              "      <th>4</th>\n",
              "      <td>debate aberto reforma educacional progresso de...</td>\n",
              "    </tr>\n",
              "  </tbody>\n",
              "</table>\n",
              "</div>\n",
              "    <div class=\"colab-df-buttons\">\n",
              "\n",
              "  <div class=\"colab-df-container\">\n",
              "    <button class=\"colab-df-convert\" onclick=\"convertToInteractive('df-d47ea647-3a18-4ffc-8df3-f98f4a8ce4e7')\"\n",
              "            title=\"Convert this dataframe to an interactive table.\"\n",
              "            style=\"display:none;\">\n",
              "\n",
              "  <svg xmlns=\"http://www.w3.org/2000/svg\" height=\"24px\" viewBox=\"0 -960 960 960\">\n",
              "    <path d=\"M120-120v-720h720v720H120Zm60-500h600v-160H180v160Zm220 220h160v-160H400v160Zm0 220h160v-160H400v160ZM180-400h160v-160H180v160Zm440 0h160v-160H620v160ZM180-180h160v-160H180v160Zm440 0h160v-160H620v160Z\"/>\n",
              "  </svg>\n",
              "    </button>\n",
              "\n",
              "  <style>\n",
              "    .colab-df-container {\n",
              "      display:flex;\n",
              "      gap: 12px;\n",
              "    }\n",
              "\n",
              "    .colab-df-convert {\n",
              "      background-color: #E8F0FE;\n",
              "      border: none;\n",
              "      border-radius: 50%;\n",
              "      cursor: pointer;\n",
              "      display: none;\n",
              "      fill: #1967D2;\n",
              "      height: 32px;\n",
              "      padding: 0 0 0 0;\n",
              "      width: 32px;\n",
              "    }\n",
              "\n",
              "    .colab-df-convert:hover {\n",
              "      background-color: #E2EBFA;\n",
              "      box-shadow: 0px 1px 2px rgba(60, 64, 67, 0.3), 0px 1px 3px 1px rgba(60, 64, 67, 0.15);\n",
              "      fill: #174EA6;\n",
              "    }\n",
              "\n",
              "    .colab-df-buttons div {\n",
              "      margin-bottom: 4px;\n",
              "    }\n",
              "\n",
              "    [theme=dark] .colab-df-convert {\n",
              "      background-color: #3B4455;\n",
              "      fill: #D2E3FC;\n",
              "    }\n",
              "\n",
              "    [theme=dark] .colab-df-convert:hover {\n",
              "      background-color: #434B5C;\n",
              "      box-shadow: 0px 1px 3px 1px rgba(0, 0, 0, 0.15);\n",
              "      filter: drop-shadow(0px 1px 2px rgba(0, 0, 0, 0.3));\n",
              "      fill: #FFFFFF;\n",
              "    }\n",
              "  </style>\n",
              "\n",
              "    <script>\n",
              "      const buttonEl =\n",
              "        document.querySelector('#df-d47ea647-3a18-4ffc-8df3-f98f4a8ce4e7 button.colab-df-convert');\n",
              "      buttonEl.style.display =\n",
              "        google.colab.kernel.accessAllowed ? 'block' : 'none';\n",
              "\n",
              "      async function convertToInteractive(key) {\n",
              "        const element = document.querySelector('#df-d47ea647-3a18-4ffc-8df3-f98f4a8ce4e7');\n",
              "        const dataTable =\n",
              "          await google.colab.kernel.invokeFunction('convertToInteractive',\n",
              "                                                    [key], {});\n",
              "        if (!dataTable) return;\n",
              "\n",
              "        const docLinkHtml = 'Like what you see? Visit the ' +\n",
              "          '<a target=\"_blank\" href=https://colab.research.google.com/notebooks/data_table.ipynb>data table notebook</a>'\n",
              "          + ' to learn more about interactive tables.';\n",
              "        element.innerHTML = '';\n",
              "        dataTable['output_type'] = 'display_data';\n",
              "        await google.colab.output.renderOutput(dataTable, element);\n",
              "        const docLink = document.createElement('div');\n",
              "        docLink.innerHTML = docLinkHtml;\n",
              "        element.appendChild(docLink);\n",
              "      }\n",
              "    </script>\n",
              "  </div>\n",
              "\n",
              "\n",
              "    <div id=\"df-ba6ecfd9-f4c5-4dad-b30b-f5544a7dae2b\">\n",
              "      <button class=\"colab-df-quickchart\" onclick=\"quickchart('df-ba6ecfd9-f4c5-4dad-b30b-f5544a7dae2b')\"\n",
              "                title=\"Suggest charts\"\n",
              "                style=\"display:none;\">\n",
              "\n",
              "<svg xmlns=\"http://www.w3.org/2000/svg\" height=\"24px\"viewBox=\"0 0 24 24\"\n",
              "     width=\"24px\">\n",
              "    <g>\n",
              "        <path d=\"M19 3H5c-1.1 0-2 .9-2 2v14c0 1.1.9 2 2 2h14c1.1 0 2-.9 2-2V5c0-1.1-.9-2-2-2zM9 17H7v-7h2v7zm4 0h-2V7h2v10zm4 0h-2v-4h2v4z\"/>\n",
              "    </g>\n",
              "</svg>\n",
              "      </button>\n",
              "\n",
              "<style>\n",
              "  .colab-df-quickchart {\n",
              "      --bg-color: #E8F0FE;\n",
              "      --fill-color: #1967D2;\n",
              "      --hover-bg-color: #E2EBFA;\n",
              "      --hover-fill-color: #174EA6;\n",
              "      --disabled-fill-color: #AAA;\n",
              "      --disabled-bg-color: #DDD;\n",
              "  }\n",
              "\n",
              "  [theme=dark] .colab-df-quickchart {\n",
              "      --bg-color: #3B4455;\n",
              "      --fill-color: #D2E3FC;\n",
              "      --hover-bg-color: #434B5C;\n",
              "      --hover-fill-color: #FFFFFF;\n",
              "      --disabled-bg-color: #3B4455;\n",
              "      --disabled-fill-color: #666;\n",
              "  }\n",
              "\n",
              "  .colab-df-quickchart {\n",
              "    background-color: var(--bg-color);\n",
              "    border: none;\n",
              "    border-radius: 50%;\n",
              "    cursor: pointer;\n",
              "    display: none;\n",
              "    fill: var(--fill-color);\n",
              "    height: 32px;\n",
              "    padding: 0;\n",
              "    width: 32px;\n",
              "  }\n",
              "\n",
              "  .colab-df-quickchart:hover {\n",
              "    background-color: var(--hover-bg-color);\n",
              "    box-shadow: 0 1px 2px rgba(60, 64, 67, 0.3), 0 1px 3px 1px rgba(60, 64, 67, 0.15);\n",
              "    fill: var(--button-hover-fill-color);\n",
              "  }\n",
              "\n",
              "  .colab-df-quickchart-complete:disabled,\n",
              "  .colab-df-quickchart-complete:disabled:hover {\n",
              "    background-color: var(--disabled-bg-color);\n",
              "    fill: var(--disabled-fill-color);\n",
              "    box-shadow: none;\n",
              "  }\n",
              "\n",
              "  .colab-df-spinner {\n",
              "    border: 2px solid var(--fill-color);\n",
              "    border-color: transparent;\n",
              "    border-bottom-color: var(--fill-color);\n",
              "    animation:\n",
              "      spin 1s steps(1) infinite;\n",
              "  }\n",
              "\n",
              "  @keyframes spin {\n",
              "    0% {\n",
              "      border-color: transparent;\n",
              "      border-bottom-color: var(--fill-color);\n",
              "      border-left-color: var(--fill-color);\n",
              "    }\n",
              "    20% {\n",
              "      border-color: transparent;\n",
              "      border-left-color: var(--fill-color);\n",
              "      border-top-color: var(--fill-color);\n",
              "    }\n",
              "    30% {\n",
              "      border-color: transparent;\n",
              "      border-left-color: var(--fill-color);\n",
              "      border-top-color: var(--fill-color);\n",
              "      border-right-color: var(--fill-color);\n",
              "    }\n",
              "    40% {\n",
              "      border-color: transparent;\n",
              "      border-right-color: var(--fill-color);\n",
              "      border-top-color: var(--fill-color);\n",
              "    }\n",
              "    60% {\n",
              "      border-color: transparent;\n",
              "      border-right-color: var(--fill-color);\n",
              "    }\n",
              "    80% {\n",
              "      border-color: transparent;\n",
              "      border-right-color: var(--fill-color);\n",
              "      border-bottom-color: var(--fill-color);\n",
              "    }\n",
              "    90% {\n",
              "      border-color: transparent;\n",
              "      border-bottom-color: var(--fill-color);\n",
              "    }\n",
              "  }\n",
              "</style>\n",
              "\n",
              "      <script>\n",
              "        async function quickchart(key) {\n",
              "          const quickchartButtonEl =\n",
              "            document.querySelector('#' + key + ' button');\n",
              "          quickchartButtonEl.disabled = true;  // To prevent multiple clicks.\n",
              "          quickchartButtonEl.classList.add('colab-df-spinner');\n",
              "          try {\n",
              "            const charts = await google.colab.kernel.invokeFunction(\n",
              "                'suggestCharts', [key], {});\n",
              "          } catch (error) {\n",
              "            console.error('Error during call to suggestCharts:', error);\n",
              "          }\n",
              "          quickchartButtonEl.classList.remove('colab-df-spinner');\n",
              "          quickchartButtonEl.classList.add('colab-df-quickchart-complete');\n",
              "        }\n",
              "        (() => {\n",
              "          let quickchartButtonEl =\n",
              "            document.querySelector('#df-ba6ecfd9-f4c5-4dad-b30b-f5544a7dae2b button');\n",
              "          quickchartButtonEl.style.display =\n",
              "            google.colab.kernel.accessAllowed ? 'block' : 'none';\n",
              "        })();\n",
              "      </script>\n",
              "    </div>\n",
              "\n",
              "    </div>\n",
              "  </div>\n"
            ],
            "application/vnd.google.colaboratory.intrinsic+json": {
              "type": "dataframe",
              "variable_name": "titulos_tratados",
              "summary": "{\n  \"name\": \"titulos_tratados\",\n  \"rows\": 2000,\n  \"fields\": [\n    {\n      \"column\": \"titulo\",\n      \"properties\": {\n        \"dtype\": \"category\",\n        \"num_unique_values\": 330,\n        \"samples\": [\n          \"manchete urgente ciberseguran\\u00e7a destaque entenda \\u00faltimos acontecimentos\",\n          \"manchete urgente infla\\u00e7\\u00e3o destaque entenda \\u00faltimos acontecimentos\",\n          \"an\\u00e1lise aprofundada impacto ensino superior cen\\u00e1rio global implica\\u00e7\\u00f5es futuras\"\n        ],\n        \"semantic_type\": \"\",\n        \"description\": \"\"\n      }\n    }\n  ]\n}"
            }
          },
          "metadata": {},
          "execution_count": 71
        }
      ]
    },
    {
      "cell_type": "code",
      "source": [
        "!pip install gensim"
      ],
      "metadata": {
        "colab": {
          "base_uri": "https://localhost:8080/"
        },
        "id": "AkPtdSya3iN8",
        "outputId": "dbd939db-ae57-4dfe-f53e-c9245690f99c"
      },
      "execution_count": 72,
      "outputs": [
        {
          "output_type": "stream",
          "name": "stdout",
          "text": [
            "Requirement already satisfied: gensim in /usr/local/lib/python3.11/dist-packages (4.3.3)\n",
            "Requirement already satisfied: numpy<2.0,>=1.18.5 in /usr/local/lib/python3.11/dist-packages (from gensim) (1.26.4)\n",
            "Requirement already satisfied: scipy<1.14.0,>=1.7.0 in /usr/local/lib/python3.11/dist-packages (from gensim) (1.13.1)\n",
            "Requirement already satisfied: smart-open>=1.8.1 in /usr/local/lib/python3.11/dist-packages (from gensim) (7.1.0)\n",
            "Requirement already satisfied: wrapt in /usr/local/lib/python3.11/dist-packages (from smart-open>=1.8.1->gensim) (1.17.2)\n"
          ]
        }
      ]
    },
    {
      "cell_type": "markdown",
      "source": [
        "# Spacy"
      ],
      "metadata": {
        "id": "NOV7qeAT683D"
      }
    },
    {
      "cell_type": "code",
      "source": [
        "from gensim.models import Word2Vec\n",
        "\n",
        "w2v_modelo = Word2Vec(sg = 0,\n",
        "                      window = 2,\n",
        "                      vector_size = 300,\n",
        "                      min_count = 5,\n",
        "                      alpha = 0.03,\n",
        "                      min_alpha = 0.007)"
      ],
      "metadata": {
        "id": "anDcMsqU2UPC"
      },
      "execution_count": 73,
      "outputs": []
    },
    {
      "cell_type": "code",
      "source": [
        "print(len(titulos_tratados))\n",
        "\n",
        "titulos_tratados = titulos_tratados.dropna().drop_duplicates()\n",
        "\n",
        "print(len(titulos_tratados))"
      ],
      "metadata": {
        "colab": {
          "base_uri": "https://localhost:8080/"
        },
        "id": "E3QA5DwQ4ghc",
        "outputId": "146b9b9c-e76e-4ddf-839b-e988847f08c5"
      },
      "execution_count": 74,
      "outputs": [
        {
          "output_type": "stream",
          "name": "stdout",
          "text": [
            "2000\n",
            "330\n"
          ]
        }
      ]
    },
    {
      "cell_type": "code",
      "source": [
        "lista_lista_tokens = [titulo.split(\" \") for titulo in titulos_tratados.titulo]"
      ],
      "metadata": {
        "id": "yoHRZz2y4IU8"
      },
      "execution_count": 75,
      "outputs": []
    },
    {
      "cell_type": "code",
      "source": [
        "w2v_modelo.build_vocab(lista_lista_tokens)"
      ],
      "metadata": {
        "id": "SPRrCMXt4Y36"
      },
      "execution_count": 76,
      "outputs": []
    },
    {
      "cell_type": "code",
      "source": [
        "w2v_modelo.corpus_count"
      ],
      "metadata": {
        "colab": {
          "base_uri": "https://localhost:8080/"
        },
        "id": "KM6KnbBq4oLj",
        "outputId": "17a6c717-b716-4856-e2c6-cea5b52c98e2"
      },
      "execution_count": 77,
      "outputs": [
        {
          "output_type": "execute_result",
          "data": {
            "text/plain": [
              "330"
            ]
          },
          "metadata": {},
          "execution_count": 77
        }
      ]
    },
    {
      "cell_type": "code",
      "source": [
        "from gensim.models.callbacks import CallbackAny2Vec\n",
        "from gensim.models import Word2Vec\n",
        "\n",
        "# iniciando a chamada callback\n",
        "class callback(CallbackAny2Vec):\n",
        "  def __init__(self):\n",
        "    self.epoch = 0\n",
        "\n",
        "  def on_epoch_end(self, model):\n",
        "    loss = model.get_latest_training_loss()\n",
        "    if self.epoch == 0:\n",
        "        print('Loss após a época {}: {}'.format(self.epoch, loss))\n",
        "    else:\n",
        "        print('Loss após a época {}: {}'.format(self.epoch, loss- self.loss_previous_step))\n",
        "    self.epoch += 1\n",
        "    self.loss_previous_step = loss"
      ],
      "metadata": {
        "id": "Bd3wHH_C474-"
      },
      "execution_count": 78,
      "outputs": []
    },
    {
      "cell_type": "code",
      "source": [
        "w2v_modelo.train(lista_lista_tokens,\n",
        "                 total_examples = w2v_modelo.corpus_count,\n",
        "                 epochs = 30,\n",
        "                 compute_loss = True,\n",
        "                 callbacks=[callback()])"
      ],
      "metadata": {
        "colab": {
          "base_uri": "https://localhost:8080/"
        },
        "id": "FifS5Sus5EiG",
        "outputId": "533e7b75-dd77-4a6f-bbc9-ec107b1e6be8"
      },
      "execution_count": 79,
      "outputs": [
        {
          "output_type": "stream",
          "name": "stdout",
          "text": [
            "Loss após a época 0: 3566.992919921875\n",
            "Loss após a época 1: 3695.214111328125\n",
            "Loss após a época 2: 3643.3720703125\n",
            "Loss após a época 3: 3620.29296875\n",
            "Loss após a época 4: 3707.8642578125\n",
            "Loss após a época 5: 3600.814453125\n",
            "Loss após a época 6: 3715.27734375\n",
            "Loss após a época 7: 3479.607421875\n",
            "Loss após a época 8: 3415.220703125\n",
            "Loss após a época 9: 3017.93359375\n",
            "Loss após a época 10: 2748.6875\n",
            "Loss após a época 11: 2588.40234375\n",
            "Loss após a época 12: 2586.21484375\n",
            "Loss após a época 13: 2522.59375\n",
            "Loss após a época 14: 2515.80078125\n",
            "Loss após a época 15: 2432.58203125\n",
            "Loss após a época 16: 2469.32421875\n",
            "Loss após a época 17: 2488.0390625\n",
            "Loss após a época 18: 2406.734375\n",
            "Loss após a época 19: 2424.36328125\n",
            "Loss após a época 20: 2403.8046875\n",
            "Loss após a época 21: 2411.9375\n",
            "Loss após a época 22: 2453.04296875\n",
            "Loss após a época 23: 2473.6796875\n",
            "Loss após a época 24: 2530.6796875\n",
            "Loss após a época 25: 2419.1875\n",
            "Loss após a época 26: 2404.65625\n",
            "Loss após a época 27: 2397.46875\n",
            "Loss após a época 28: 2428.6015625\n",
            "Loss após a época 29: 2434.8828125\n"
          ]
        },
        {
          "output_type": "execute_result",
          "data": {
            "text/plain": [
              "(26058, 67260)"
            ]
          },
          "metadata": {},
          "execution_count": 79
        }
      ]
    },
    {
      "cell_type": "code",
      "source": [
        "w2v_modelo.wv.most_similar(\"internacionais\")"
      ],
      "metadata": {
        "colab": {
          "base_uri": "https://localhost:8080/"
        },
        "id": "2yzHqmAa6E9f",
        "outputId": "79f373a6-a98e-4121-accb-dcc69c1a865c"
      },
      "execution_count": 80,
      "outputs": [
        {
          "output_type": "execute_result",
          "data": {
            "text/plain": [
              "[('legislação', 0.9981498718261719),\n",
              " ('basquete', 0.998140811920166),\n",
              " ('futebol', 0.9980713129043579),\n",
              " ('olimpíadas', 0.9980576038360596),\n",
              " ('sustentabilidade', 0.9980564713478088),\n",
              " ('inflação', 0.9980545043945312),\n",
              " ('literatura', 0.9980372190475464),\n",
              " ('emprego', 0.9979997277259827),\n",
              " ('cibersegurança', 0.9979788661003113),\n",
              " ('vacinação', 0.997956395149231)]"
            ]
          },
          "metadata": {},
          "execution_count": 80
        }
      ]
    },
    {
      "cell_type": "markdown",
      "source": [
        "# SkipGram"
      ],
      "metadata": {
        "id": "LYvaxon06ygz"
      }
    },
    {
      "cell_type": "code",
      "source": [
        "w2v_modelo_sg = Word2Vec(sg = 1,\n",
        "                      window = 5,\n",
        "                      vector_size = 300,\n",
        "                      min_count = 5,\n",
        "                      alpha = 0.03,\n",
        "                      min_alpha = 0.007)\n",
        "\n",
        "w2v_modelo_sg.build_vocab(lista_lista_tokens)\n",
        "\n",
        "w2v_modelo_sg.train(lista_lista_tokens,\n",
        "                 total_examples = w2v_modelo_sg.corpus_count,\n",
        "                 epochs = 30,\n",
        "                 compute_loss = True,\n",
        "                 callbacks=[callback()])"
      ],
      "metadata": {
        "colab": {
          "base_uri": "https://localhost:8080/"
        },
        "id": "wUork9je6yFD",
        "outputId": "4fe23ebe-a5ab-49a5-84ed-f8bb5e416e52"
      },
      "execution_count": 81,
      "outputs": [
        {
          "output_type": "stream",
          "name": "stdout",
          "text": [
            "Loss após a época 0: 6926.4072265625\n",
            "Loss após a época 1: 7319.78125\n",
            "Loss após a época 2: 7514.5009765625\n",
            "Loss após a época 3: 7154.919921875\n",
            "Loss após a época 4: 6589.44140625\n",
            "Loss após a época 5: 5399.19921875\n",
            "Loss após a época 6: 4764.6171875\n",
            "Loss após a época 7: 4321.53125\n",
            "Loss após a época 8: 4634.015625\n",
            "Loss após a época 9: 5007.90234375\n",
            "Loss após a época 10: 4698.50390625\n",
            "Loss após a época 11: 4688.078125\n",
            "Loss após a época 12: 5557.9375\n",
            "Loss após a época 13: 4660.2578125\n",
            "Loss após a época 14: 4222.96875\n",
            "Loss após a época 15: 5004.3046875\n",
            "Loss após a época 16: 4382.3671875\n",
            "Loss após a época 17: 4294.046875\n",
            "Loss após a época 18: 4434.25\n",
            "Loss após a época 19: 4374.859375\n",
            "Loss após a época 20: 4731.765625\n",
            "Loss após a época 21: 4652.5234375\n",
            "Loss após a época 22: 4128.7890625\n",
            "Loss após a época 23: 4666.3515625\n",
            "Loss após a época 24: 3890.1953125\n",
            "Loss após a época 25: 3733.21875\n",
            "Loss após a época 26: 3962.75\n",
            "Loss após a época 27: 3943.4375\n",
            "Loss após a época 28: 3988.125\n",
            "Loss após a época 29: 4201.421875\n"
          ]
        },
        {
          "output_type": "execute_result",
          "data": {
            "text/plain": [
              "(26084, 67260)"
            ]
          },
          "metadata": {},
          "execution_count": 81
        }
      ]
    },
    {
      "cell_type": "code",
      "source": [
        "w2v_modelo_sg.wv.most_similar(\"internacionais\")"
      ],
      "metadata": {
        "colab": {
          "base_uri": "https://localhost:8080/"
        },
        "id": "b9zXmPaB7Bev",
        "outputId": "8ed258ac-3003-4b24-e099-6b03129a88b2"
      },
      "execution_count": 82,
      "outputs": [
        {
          "output_type": "execute_result",
          "data": {
            "text/plain": [
              "[('sustentabilidade', 0.9883832931518555),\n",
              " ('pandemia', 0.9879934787750244),\n",
              " ('automobilismo', 0.9872362613677979),\n",
              " ('olimpíadas', 0.9870615601539612),\n",
              " ('eleições', 0.9867727160453796),\n",
              " ('futebol', 0.9861956238746643),\n",
              " ('legislação', 0.9860640168190002),\n",
              " ('inflação', 0.9856796264648438),\n",
              " ('ensino', 0.9855701327323914),\n",
              " ('inteligência', 0.9852706789970398)]"
            ]
          },
          "metadata": {},
          "execution_count": 82
        }
      ]
    },
    {
      "cell_type": "markdown",
      "source": [
        "# Exportando Modelos"
      ],
      "metadata": {
        "id": "AHUhTqHu7sPb"
      }
    },
    {
      "cell_type": "code",
      "source": [
        "# /content/drive/MyDrive/Colab Notebooks\n",
        "w2v_modelo.wv.save_word2vec_format(\"/content/drive/MyDrive/Colab Notebooks/Word2Vec/modelo_cbow.txt\", binary=False)\n",
        "w2v_modelo_sg.wv.save_word2vec_format(\"/content/drive/MyDrive/Colab Notebooks/Word2Vec/modelo_sg.txt\", binary=False)"
      ],
      "metadata": {
        "id": "xBPiaPkY7DVa"
      },
      "execution_count": 83,
      "outputs": []
    },
    {
      "cell_type": "markdown",
      "source": [
        "# Classificação com meu modelo"
      ],
      "metadata": {
        "id": "gQkC4Kwo8qZb"
      }
    },
    {
      "cell_type": "code",
      "source": [
        "import spacy\n",
        "nlp = spacy.load(\"pt_core_news_sm\", disable=[\"parser\", \"ner\", \"tagger\", \"textcat\"])\n",
        "\n",
        "def tokenizador(texto):\n",
        "  tokens_validos = []\n",
        "  doc = nlp(texto)\n",
        "\n",
        "  for token in doc:\n",
        "    e_valido = not token.is_stop and token.is_alpha\n",
        "    if e_valido:\n",
        "      tokens_validos.append(token.text.lower())\n",
        "\n",
        "  return tokens_validos"
      ],
      "metadata": {
        "id": "PY00ajZT8_Pr"
      },
      "execution_count": 84,
      "outputs": []
    },
    {
      "cell_type": "code",
      "source": [
        "import numpy as np\n",
        "\n",
        "def combinacao_de_vetores_por_soma(palavras, modelo):\n",
        "  vetor_resultante = np.zeros(300)\n",
        "  for pn in palavras:\n",
        "    try:\n",
        "      vetor_resultante =+ modelo.wv.get_vector(pn)\n",
        "    except KeyError:\n",
        "      pass\n",
        "\n",
        "  return vetor_resultante"
      ],
      "metadata": {
        "id": "9EQfnIVb8KCK"
      },
      "execution_count": 85,
      "outputs": []
    },
    {
      "cell_type": "code",
      "source": [
        "def matriz_vetores(textos, modelo):\n",
        "  x = len(textos)\n",
        "  y = 300\n",
        "  matriz = np.zeros((x,y))\n",
        "\n",
        "  for i in range(x):\n",
        "    palavras = tokenizador(textos.iloc[i])\n",
        "    matriz[i] = combinacao_de_vetores_por_soma(palavras, modelo)\n",
        "\n",
        "  return matriz"
      ],
      "metadata": {
        "id": "BqfmyDlG80Gb"
      },
      "execution_count": 86,
      "outputs": []
    },
    {
      "cell_type": "code",
      "source": [
        "matriz_vetores_treino_cbow = matriz_vetores(artigo_treino.title, w2v_modelo)\n",
        "matriz_vetores_teste_cbow = matriz_vetores(artigo_teste.title, w2v_modelo)\n",
        "print(matriz_vetores_treino_cbow.shape)\n",
        "print(matriz_vetores_teste_cbow.shape)\n",
        "\n",
        "matriz_vetores_treino_sg = matriz_vetores(artigo_treino.title, w2v_modelo_sg)\n",
        "matriz_vetores_teste_sg = matriz_vetores(artigo_teste.title, w2v_modelo_sg)\n",
        "print(matriz_vetores_treino_sg.shape)\n",
        "print(matriz_vetores_teste_sg.shape)"
      ],
      "metadata": {
        "colab": {
          "base_uri": "https://localhost:8080/"
        },
        "id": "Xt3m1uxn80nv",
        "outputId": "2abd3c57-f379-41c0-ac3a-052c62ab53bf"
      },
      "execution_count": 87,
      "outputs": [
        {
          "output_type": "stream",
          "name": "stdout",
          "text": [
            "(2000, 300)\n",
            "(2000, 300)\n",
            "(2000, 300)\n",
            "(2000, 300)\n"
          ]
        }
      ]
    },
    {
      "cell_type": "code",
      "source": [
        "from sklearn.linear_model import LogisticRegression\n",
        "from sklearn.metrics import classification_report\n",
        "\n",
        "def classificador(modelo, x_treino, y_treino, x_teste, y_teste):\n",
        "  RL = LogisticRegression(max_iter = 800)\n",
        "  RL.fit(x_treino, y_treino)\n",
        "  categorias = RL.predict(x_teste)\n",
        "  resultados = classification_report(y_teste, categorias)\n",
        "  print(resultados)\n",
        "  return RL"
      ],
      "metadata": {
        "id": "M9RpPd1m9Paa"
      },
      "execution_count": 88,
      "outputs": []
    },
    {
      "cell_type": "code",
      "source": [
        "RL_cbow = classificador(w2v_modelo,\n",
        "                        matriz_vetores_treino_cbow,\n",
        "                        artigo_treino.category,\n",
        "                        matriz_vetores_teste_cbow,\n",
        "                        artigo_teste.category)"
      ],
      "metadata": {
        "colab": {
          "base_uri": "https://localhost:8080/"
        },
        "id": "W8nRZ6NW9fla",
        "outputId": "b2b470cd-3c1b-4fbe-d072-8fe5f5416912"
      },
      "execution_count": 89,
      "outputs": [
        {
          "output_type": "stream",
          "name": "stdout",
          "text": [
            "               precision    recall  f1-score   support\n",
            "\n",
            "      Cultura       0.00      0.00      0.00       239\n",
            "     Economia       0.11      0.37      0.17       245\n",
            "     Educação       0.00      0.00      0.00       230\n",
            "     Esportes       0.13      0.10      0.11       252\n",
            "Meio Ambiente       0.00      0.00      0.00       244\n",
            "     Política       0.16      0.12      0.14       276\n",
            "        Saúde       0.09      0.14      0.11       252\n",
            "   Tecnologia       0.13      0.20      0.16       262\n",
            "\n",
            "     accuracy                           0.12      2000\n",
            "    macro avg       0.08      0.12      0.09      2000\n",
            " weighted avg       0.08      0.12      0.09      2000\n",
            "\n"
          ]
        },
        {
          "output_type": "stream",
          "name": "stderr",
          "text": [
            "/usr/local/lib/python3.11/dist-packages/sklearn/metrics/_classification.py:1565: UndefinedMetricWarning: Precision is ill-defined and being set to 0.0 in labels with no predicted samples. Use `zero_division` parameter to control this behavior.\n",
            "  _warn_prf(average, modifier, f\"{metric.capitalize()} is\", len(result))\n",
            "/usr/local/lib/python3.11/dist-packages/sklearn/metrics/_classification.py:1565: UndefinedMetricWarning: Precision is ill-defined and being set to 0.0 in labels with no predicted samples. Use `zero_division` parameter to control this behavior.\n",
            "  _warn_prf(average, modifier, f\"{metric.capitalize()} is\", len(result))\n",
            "/usr/local/lib/python3.11/dist-packages/sklearn/metrics/_classification.py:1565: UndefinedMetricWarning: Precision is ill-defined and being set to 0.0 in labels with no predicted samples. Use `zero_division` parameter to control this behavior.\n",
            "  _warn_prf(average, modifier, f\"{metric.capitalize()} is\", len(result))\n"
          ]
        }
      ]
    },
    {
      "cell_type": "code",
      "source": [
        "RL_cbow = classificador(w2v_modelo_sg,\n",
        "                        matriz_vetores_treino_sg,\n",
        "                        artigo_treino.category,\n",
        "                        matriz_vetores_teste_sg,\n",
        "                        artigo_teste.category)"
      ],
      "metadata": {
        "colab": {
          "base_uri": "https://localhost:8080/"
        },
        "id": "YKiiRLNJ9kbj",
        "outputId": "cc4ceab5-2f55-4d42-9169-6e937e93d648"
      },
      "execution_count": 90,
      "outputs": [
        {
          "output_type": "stream",
          "name": "stdout",
          "text": [
            "               precision    recall  f1-score   support\n",
            "\n",
            "      Cultura       0.11      0.10      0.10       239\n",
            "     Economia       0.00      0.00      0.00       245\n",
            "     Educação       0.10      0.09      0.09       230\n",
            "     Esportes       0.13      0.10      0.11       252\n",
            "Meio Ambiente       0.15      0.11      0.13       244\n",
            "     Política       0.16      0.12      0.14       276\n",
            "        Saúde       0.12      0.10      0.11       252\n",
            "   Tecnologia       0.14      0.43      0.21       262\n",
            "\n",
            "     accuracy                           0.13      2000\n",
            "    macro avg       0.11      0.13      0.11      2000\n",
            " weighted avg       0.12      0.13      0.11      2000\n",
            "\n"
          ]
        },
        {
          "output_type": "stream",
          "name": "stderr",
          "text": [
            "/usr/local/lib/python3.11/dist-packages/sklearn/metrics/_classification.py:1565: UndefinedMetricWarning: Precision is ill-defined and being set to 0.0 in labels with no predicted samples. Use `zero_division` parameter to control this behavior.\n",
            "  _warn_prf(average, modifier, f\"{metric.capitalize()} is\", len(result))\n",
            "/usr/local/lib/python3.11/dist-packages/sklearn/metrics/_classification.py:1565: UndefinedMetricWarning: Precision is ill-defined and being set to 0.0 in labels with no predicted samples. Use `zero_division` parameter to control this behavior.\n",
            "  _warn_prf(average, modifier, f\"{metric.capitalize()} is\", len(result))\n",
            "/usr/local/lib/python3.11/dist-packages/sklearn/metrics/_classification.py:1565: UndefinedMetricWarning: Precision is ill-defined and being set to 0.0 in labels with no predicted samples. Use `zero_division` parameter to control this behavior.\n",
            "  _warn_prf(average, modifier, f\"{metric.capitalize()} is\", len(result))\n"
          ]
        }
      ]
    }
  ]
}